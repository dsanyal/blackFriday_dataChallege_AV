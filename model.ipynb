{
 "cells": [
  {
   "cell_type": "code",
   "execution_count": 536,
   "metadata": {},
   "outputs": [],
   "source": [
    "import numpy as np\n",
    "import pandas as pd\n",
    "import os\n",
    "import xgboost as xgb\n",
    "from sklearn.ensemble import RandomForestRegressor\n",
    "from sklearn.ensemble import ExtraTreesRegressor\n",
    "from sklearn.metrics import mean_squared_error"
   ]
  },
  {
   "cell_type": "code",
   "execution_count": 537,
   "metadata": {},
   "outputs": [],
   "source": [
    "\n",
    "from sklearn.model_selection import GridSearchCV\n",
    "from sklearn.model_selection import train_test_split\n",
    "import seaborn as sns\n",
    "import sklearn\n",
    "import matplotlib.pyplot as plt\n",
    "%matplotlib inline\n"
   ]
  },
  {
   "cell_type": "code",
   "execution_count": 538,
   "metadata": {},
   "outputs": [],
   "source": [
    "os.environ['KMP_DUPLICATE_LIB_OK']='True'"
   ]
  },
  {
   "cell_type": "markdown",
   "metadata": {},
   "source": [
    "### Read the training and test dataset"
   ]
  },
  {
   "cell_type": "code",
   "execution_count": 539,
   "metadata": {},
   "outputs": [],
   "source": [
    "train= pd.read_csv(\"./train.csv\")\n",
    "test = pd.read_csv(\"./test.csv\")"
   ]
  },
  {
   "cell_type": "code",
   "execution_count": 540,
   "metadata": {},
   "outputs": [
    {
     "data": {
      "text/html": [
       "<div>\n",
       "<style scoped>\n",
       "    .dataframe tbody tr th:only-of-type {\n",
       "        vertical-align: middle;\n",
       "    }\n",
       "\n",
       "    .dataframe tbody tr th {\n",
       "        vertical-align: top;\n",
       "    }\n",
       "\n",
       "    .dataframe thead th {\n",
       "        text-align: right;\n",
       "    }\n",
       "</style>\n",
       "<table border=\"1\" class=\"dataframe\">\n",
       "  <thead>\n",
       "    <tr style=\"text-align: right;\">\n",
       "      <th></th>\n",
       "      <th>User_ID</th>\n",
       "      <th>Product_ID</th>\n",
       "      <th>Gender</th>\n",
       "      <th>Age</th>\n",
       "      <th>Occupation</th>\n",
       "      <th>City_Category</th>\n",
       "      <th>Stay_In_Current_City_Years</th>\n",
       "      <th>Marital_Status</th>\n",
       "      <th>Product_Category_1</th>\n",
       "      <th>Product_Category_2</th>\n",
       "      <th>Product_Category_3</th>\n",
       "      <th>Purchase</th>\n",
       "    </tr>\n",
       "  </thead>\n",
       "  <tbody>\n",
       "    <tr>\n",
       "      <th>0</th>\n",
       "      <td>1000001</td>\n",
       "      <td>P00069042</td>\n",
       "      <td>F</td>\n",
       "      <td>0-17</td>\n",
       "      <td>10</td>\n",
       "      <td>A</td>\n",
       "      <td>2</td>\n",
       "      <td>0</td>\n",
       "      <td>3</td>\n",
       "      <td>NaN</td>\n",
       "      <td>NaN</td>\n",
       "      <td>8370</td>\n",
       "    </tr>\n",
       "    <tr>\n",
       "      <th>1</th>\n",
       "      <td>1000001</td>\n",
       "      <td>P00248942</td>\n",
       "      <td>F</td>\n",
       "      <td>0-17</td>\n",
       "      <td>10</td>\n",
       "      <td>A</td>\n",
       "      <td>2</td>\n",
       "      <td>0</td>\n",
       "      <td>1</td>\n",
       "      <td>6.0</td>\n",
       "      <td>14.0</td>\n",
       "      <td>15200</td>\n",
       "    </tr>\n",
       "    <tr>\n",
       "      <th>2</th>\n",
       "      <td>1000001</td>\n",
       "      <td>P00087842</td>\n",
       "      <td>F</td>\n",
       "      <td>0-17</td>\n",
       "      <td>10</td>\n",
       "      <td>A</td>\n",
       "      <td>2</td>\n",
       "      <td>0</td>\n",
       "      <td>12</td>\n",
       "      <td>NaN</td>\n",
       "      <td>NaN</td>\n",
       "      <td>1422</td>\n",
       "    </tr>\n",
       "    <tr>\n",
       "      <th>3</th>\n",
       "      <td>1000001</td>\n",
       "      <td>P00085442</td>\n",
       "      <td>F</td>\n",
       "      <td>0-17</td>\n",
       "      <td>10</td>\n",
       "      <td>A</td>\n",
       "      <td>2</td>\n",
       "      <td>0</td>\n",
       "      <td>12</td>\n",
       "      <td>14.0</td>\n",
       "      <td>NaN</td>\n",
       "      <td>1057</td>\n",
       "    </tr>\n",
       "    <tr>\n",
       "      <th>4</th>\n",
       "      <td>1000002</td>\n",
       "      <td>P00285442</td>\n",
       "      <td>M</td>\n",
       "      <td>55+</td>\n",
       "      <td>16</td>\n",
       "      <td>C</td>\n",
       "      <td>4+</td>\n",
       "      <td>0</td>\n",
       "      <td>8</td>\n",
       "      <td>NaN</td>\n",
       "      <td>NaN</td>\n",
       "      <td>7969</td>\n",
       "    </tr>\n",
       "  </tbody>\n",
       "</table>\n",
       "</div>"
      ],
      "text/plain": [
       "   User_ID Product_ID Gender   Age  Occupation City_Category  \\\n",
       "0  1000001  P00069042      F  0-17          10             A   \n",
       "1  1000001  P00248942      F  0-17          10             A   \n",
       "2  1000001  P00087842      F  0-17          10             A   \n",
       "3  1000001  P00085442      F  0-17          10             A   \n",
       "4  1000002  P00285442      M   55+          16             C   \n",
       "\n",
       "  Stay_In_Current_City_Years  Marital_Status  Product_Category_1  \\\n",
       "0                          2               0                   3   \n",
       "1                          2               0                   1   \n",
       "2                          2               0                  12   \n",
       "3                          2               0                  12   \n",
       "4                         4+               0                   8   \n",
       "\n",
       "   Product_Category_2  Product_Category_3  Purchase  \n",
       "0                 NaN                 NaN      8370  \n",
       "1                 6.0                14.0     15200  \n",
       "2                 NaN                 NaN      1422  \n",
       "3                14.0                 NaN      1057  \n",
       "4                 NaN                 NaN      7969  "
      ]
     },
     "execution_count": 540,
     "metadata": {},
     "output_type": "execute_result"
    }
   ],
   "source": [
    "train.head()"
   ]
  },
  {
   "cell_type": "markdown",
   "metadata": {},
   "source": [
    "### Stack the training and test datasets into a single one"
   ]
  },
  {
   "cell_type": "code",
   "execution_count": 541,
   "metadata": {},
   "outputs": [],
   "source": [
    "full = pd.concat([train, test],axis=0,sort=False)"
   ]
  },
  {
   "cell_type": "markdown",
   "metadata": {},
   "source": [
    "### Which columns have non-numeric values and need encoding?"
   ]
  },
  {
   "cell_type": "code",
   "execution_count": 542,
   "metadata": {},
   "outputs": [
    {
     "data": {
      "text/html": [
       "<div>\n",
       "<style scoped>\n",
       "    .dataframe tbody tr th:only-of-type {\n",
       "        vertical-align: middle;\n",
       "    }\n",
       "\n",
       "    .dataframe tbody tr th {\n",
       "        vertical-align: top;\n",
       "    }\n",
       "\n",
       "    .dataframe thead th {\n",
       "        text-align: right;\n",
       "    }\n",
       "</style>\n",
       "<table border=\"1\" class=\"dataframe\">\n",
       "  <thead>\n",
       "    <tr style=\"text-align: right;\">\n",
       "      <th></th>\n",
       "      <th>Product_ID</th>\n",
       "      <th>Gender</th>\n",
       "      <th>Age</th>\n",
       "      <th>City_Category</th>\n",
       "      <th>Stay_In_Current_City_Years</th>\n",
       "    </tr>\n",
       "  </thead>\n",
       "  <tbody>\n",
       "    <tr>\n",
       "      <th>0</th>\n",
       "      <td>P00069042</td>\n",
       "      <td>F</td>\n",
       "      <td>0-17</td>\n",
       "      <td>A</td>\n",
       "      <td>2</td>\n",
       "    </tr>\n",
       "    <tr>\n",
       "      <th>1</th>\n",
       "      <td>P00248942</td>\n",
       "      <td>F</td>\n",
       "      <td>0-17</td>\n",
       "      <td>A</td>\n",
       "      <td>2</td>\n",
       "    </tr>\n",
       "    <tr>\n",
       "      <th>2</th>\n",
       "      <td>P00087842</td>\n",
       "      <td>F</td>\n",
       "      <td>0-17</td>\n",
       "      <td>A</td>\n",
       "      <td>2</td>\n",
       "    </tr>\n",
       "    <tr>\n",
       "      <th>3</th>\n",
       "      <td>P00085442</td>\n",
       "      <td>F</td>\n",
       "      <td>0-17</td>\n",
       "      <td>A</td>\n",
       "      <td>2</td>\n",
       "    </tr>\n",
       "    <tr>\n",
       "      <th>4</th>\n",
       "      <td>P00285442</td>\n",
       "      <td>M</td>\n",
       "      <td>55+</td>\n",
       "      <td>C</td>\n",
       "      <td>4+</td>\n",
       "    </tr>\n",
       "  </tbody>\n",
       "</table>\n",
       "</div>"
      ],
      "text/plain": [
       "  Product_ID Gender   Age City_Category Stay_In_Current_City_Years\n",
       "0  P00069042      F  0-17             A                          2\n",
       "1  P00248942      F  0-17             A                          2\n",
       "2  P00087842      F  0-17             A                          2\n",
       "3  P00085442      F  0-17             A                          2\n",
       "4  P00285442      M   55+             C                         4+"
      ]
     },
     "execution_count": 542,
     "metadata": {},
     "output_type": "execute_result"
    }
   ],
   "source": [
    "train.select_dtypes(exclude=[np.number]).head()"
   ]
  },
  {
   "cell_type": "code",
   "execution_count": 543,
   "metadata": {},
   "outputs": [],
   "source": [
    "train_shape = train.shape\n",
    "test_shape = test.shape"
   ]
  },
  {
   "cell_type": "code",
   "execution_count": 544,
   "metadata": {},
   "outputs": [],
   "source": [
    "del train\n",
    "del test"
   ]
  },
  {
   "cell_type": "markdown",
   "metadata": {},
   "source": [
    "### Transform the Age column by mapping it to the mean of the range"
   ]
  },
  {
   "cell_type": "code",
   "execution_count": 545,
   "metadata": {},
   "outputs": [
    {
     "name": "stdout",
     "output_type": "stream",
     "text": [
      "26-35    313015\n",
      "36-45    156724\n",
      "18-25    141953\n",
      "46-50     65278\n",
      "51-55     54784\n",
      "55+       30579\n",
      "0-17      21334\n",
      "Name: Age, dtype: int64\n"
     ]
    }
   ],
   "source": [
    "print(full.Age.value_counts())\n",
    "age_transform = {'26-35':(26+35)/2, '36-45':(36+45)/2, '18-25':(18+25)/2, '46-50':(46+50)/2, '51-55':(51+55)/2, '0-17':17/2, '55+':60}\n",
    "full['Age'] = full['Age'].apply(lambda x: age_transform[x])"
   ]
  },
  {
   "cell_type": "code",
   "execution_count": 546,
   "metadata": {},
   "outputs": [],
   "source": [
    "#train['Product_ID'] = train['Product_ID'].apply(lambda x: x[1:]).apply(int)"
   ]
  },
  {
   "cell_type": "code",
   "execution_count": 547,
   "metadata": {},
   "outputs": [
    {
     "data": {
      "text/html": [
       "<div>\n",
       "<style scoped>\n",
       "    .dataframe tbody tr th:only-of-type {\n",
       "        vertical-align: middle;\n",
       "    }\n",
       "\n",
       "    .dataframe tbody tr th {\n",
       "        vertical-align: top;\n",
       "    }\n",
       "\n",
       "    .dataframe thead th {\n",
       "        text-align: right;\n",
       "    }\n",
       "</style>\n",
       "<table border=\"1\" class=\"dataframe\">\n",
       "  <thead>\n",
       "    <tr style=\"text-align: right;\">\n",
       "      <th></th>\n",
       "      <th>Product_ID</th>\n",
       "      <th>Gender</th>\n",
       "      <th>City_Category</th>\n",
       "      <th>Stay_In_Current_City_Years</th>\n",
       "    </tr>\n",
       "  </thead>\n",
       "  <tbody>\n",
       "    <tr>\n",
       "      <th>0</th>\n",
       "      <td>P00069042</td>\n",
       "      <td>F</td>\n",
       "      <td>A</td>\n",
       "      <td>2</td>\n",
       "    </tr>\n",
       "    <tr>\n",
       "      <th>1</th>\n",
       "      <td>P00248942</td>\n",
       "      <td>F</td>\n",
       "      <td>A</td>\n",
       "      <td>2</td>\n",
       "    </tr>\n",
       "    <tr>\n",
       "      <th>2</th>\n",
       "      <td>P00087842</td>\n",
       "      <td>F</td>\n",
       "      <td>A</td>\n",
       "      <td>2</td>\n",
       "    </tr>\n",
       "    <tr>\n",
       "      <th>3</th>\n",
       "      <td>P00085442</td>\n",
       "      <td>F</td>\n",
       "      <td>A</td>\n",
       "      <td>2</td>\n",
       "    </tr>\n",
       "    <tr>\n",
       "      <th>4</th>\n",
       "      <td>P00285442</td>\n",
       "      <td>M</td>\n",
       "      <td>C</td>\n",
       "      <td>4+</td>\n",
       "    </tr>\n",
       "  </tbody>\n",
       "</table>\n",
       "</div>"
      ],
      "text/plain": [
       "  Product_ID Gender City_Category Stay_In_Current_City_Years\n",
       "0  P00069042      F             A                          2\n",
       "1  P00248942      F             A                          2\n",
       "2  P00087842      F             A                          2\n",
       "3  P00085442      F             A                          2\n",
       "4  P00285442      M             C                         4+"
      ]
     },
     "execution_count": 547,
     "metadata": {},
     "output_type": "execute_result"
    }
   ],
   "source": [
    "full.select_dtypes(exclude=[np.number]).head()"
   ]
  },
  {
   "cell_type": "code",
   "execution_count": 548,
   "metadata": {},
   "outputs": [
    {
     "data": {
      "text/plain": [
       "1     276425\n",
       "2     145427\n",
       "3     135428\n",
       "4+    120671\n",
       "0     105716\n",
       "Name: Stay_In_Current_City_Years, dtype: int64"
      ]
     },
     "execution_count": 548,
     "metadata": {},
     "output_type": "execute_result"
    }
   ],
   "source": [
    "full.Stay_In_Current_City_Years.value_counts()"
   ]
  },
  {
   "cell_type": "code",
   "execution_count": 549,
   "metadata": {},
   "outputs": [],
   "source": [
    "full.loc[full.Stay_In_Current_City_Years == '4+', 'Stay_In_Current_City_Years'] = '4'\n",
    "full['Stay_In_Current_City_Years'] = full['Stay_In_Current_City_Years'].astype('int')"
   ]
  },
  {
   "cell_type": "markdown",
   "metadata": {},
   "source": [
    "### One-hot encode the `Gender` and `City_Category` features"
   ]
  },
  {
   "cell_type": "code",
   "execution_count": 550,
   "metadata": {},
   "outputs": [],
   "source": [
    "df_dummy_gender = pd.get_dummies(full['Gender'],prefix = 'Gender')\n",
    "df_dummy_city_cat = pd.get_dummies(full['City_Category'],prefix = 'City_Category')"
   ]
  },
  {
   "cell_type": "code",
   "execution_count": 551,
   "metadata": {},
   "outputs": [],
   "source": [
    "full = pd.concat([full, df_dummy_gender,df_dummy_city_cat], axis=1)"
   ]
  },
  {
   "cell_type": "code",
   "execution_count": 552,
   "metadata": {},
   "outputs": [
    {
     "data": {
      "text/plain": [
       "<matplotlib.axes._subplots.AxesSubplot at 0x1a2b72f240>"
      ]
     },
     "execution_count": 552,
     "metadata": {},
     "output_type": "execute_result"
    },
    {
     "data": {
      "image/png": "[encoded data removed]",
      "text/plain": [
       "<Figure size 432x288 with 1 Axes>"
      ]
     },
     "metadata": {
      "needs_background": "light"
     },
     "output_type": "display_data"
    }
   ],
   "source": [
    "full.groupby('Product_ID').mean().reset_index()[['Product_ID','Purchase']].plot()"
   ]
  },
  {
   "cell_type": "markdown",
   "metadata": {},
   "source": [
    "## Feature engineering"
   ]
  },
  {
   "cell_type": "code",
   "execution_count": 553,
   "metadata": {},
   "outputs": [],
   "source": [
    "## Encode the Product ID's using standard Encoder\n",
    "enc = sklearn.preprocessing.LabelEncoder()\n",
    "full['Product_ID'] = enc.fit_transform(full['Product_ID'])  "
   ]
  },
  {
   "cell_type": "markdown",
   "metadata": {},
   "source": [
    "#### Create a new feature based on the average purchase price per product.  This turns out to be an important feature.\n",
    "Some Product ID's in the training set are new. For these rows, the average purchase price of all the products will be used."
   ]
  },
  {
   "cell_type": "code",
   "execution_count": 554,
   "metadata": {},
   "outputs": [
    {
     "data": {
      "text/html": [
       "<div>\n",
       "<style scoped>\n",
       "    .dataframe tbody tr th:only-of-type {\n",
       "        vertical-align: middle;\n",
       "    }\n",
       "\n",
       "    .dataframe tbody tr th {\n",
       "        vertical-align: top;\n",
       "    }\n",
       "\n",
       "    .dataframe thead th {\n",
       "        text-align: right;\n",
       "    }\n",
       "</style>\n",
       "<table border=\"1\" class=\"dataframe\">\n",
       "  <thead>\n",
       "    <tr style=\"text-align: right;\">\n",
       "      <th></th>\n",
       "      <th>User_ID</th>\n",
       "      <th>Product_ID</th>\n",
       "      <th>Gender</th>\n",
       "      <th>Age</th>\n",
       "      <th>Occupation</th>\n",
       "      <th>City_Category</th>\n",
       "      <th>Stay_In_Current_City_Years</th>\n",
       "      <th>Marital_Status</th>\n",
       "      <th>Product_Category_1</th>\n",
       "      <th>Product_Category_2</th>\n",
       "      <th>Product_Category_3</th>\n",
       "      <th>Purchase</th>\n",
       "      <th>Gender_F</th>\n",
       "      <th>Gender_M</th>\n",
       "      <th>City_Category_A</th>\n",
       "      <th>City_Category_B</th>\n",
       "      <th>City_Category_C</th>\n",
       "      <th>avg_product_price</th>\n",
       "    </tr>\n",
       "  </thead>\n",
       "  <tbody>\n",
       "    <tr>\n",
       "      <th>0</th>\n",
       "      <td>1000001</td>\n",
       "      <td>684</td>\n",
       "      <td>F</td>\n",
       "      <td>8.5</td>\n",
       "      <td>10</td>\n",
       "      <td>A</td>\n",
       "      <td>2</td>\n",
       "      <td>0</td>\n",
       "      <td>3</td>\n",
       "      <td>NaN</td>\n",
       "      <td>NaN</td>\n",
       "      <td>8370.0</td>\n",
       "      <td>1</td>\n",
       "      <td>0</td>\n",
       "      <td>1</td>\n",
       "      <td>0</td>\n",
       "      <td>0</td>\n",
       "      <td>11870.863436</td>\n",
       "    </tr>\n",
       "    <tr>\n",
       "      <th>1</th>\n",
       "      <td>1000001</td>\n",
       "      <td>2406</td>\n",
       "      <td>F</td>\n",
       "      <td>8.5</td>\n",
       "      <td>10</td>\n",
       "      <td>A</td>\n",
       "      <td>2</td>\n",
       "      <td>0</td>\n",
       "      <td>1</td>\n",
       "      <td>6.0</td>\n",
       "      <td>14.0</td>\n",
       "      <td>15200.0</td>\n",
       "      <td>1</td>\n",
       "      <td>0</td>\n",
       "      <td>1</td>\n",
       "      <td>0</td>\n",
       "      <td>0</td>\n",
       "      <td>16304.030981</td>\n",
       "    </tr>\n",
       "    <tr>\n",
       "      <th>2</th>\n",
       "      <td>1000001</td>\n",
       "      <td>868</td>\n",
       "      <td>F</td>\n",
       "      <td>8.5</td>\n",
       "      <td>10</td>\n",
       "      <td>A</td>\n",
       "      <td>2</td>\n",
       "      <td>0</td>\n",
       "      <td>12</td>\n",
       "      <td>NaN</td>\n",
       "      <td>NaN</td>\n",
       "      <td>1422.0</td>\n",
       "      <td>1</td>\n",
       "      <td>0</td>\n",
       "      <td>1</td>\n",
       "      <td>0</td>\n",
       "      <td>0</td>\n",
       "      <td>1237.892157</td>\n",
       "    </tr>\n",
       "    <tr>\n",
       "      <th>3</th>\n",
       "      <td>1000001</td>\n",
       "      <td>844</td>\n",
       "      <td>F</td>\n",
       "      <td>8.5</td>\n",
       "      <td>10</td>\n",
       "      <td>A</td>\n",
       "      <td>2</td>\n",
       "      <td>0</td>\n",
       "      <td>12</td>\n",
       "      <td>14.0</td>\n",
       "      <td>NaN</td>\n",
       "      <td>1057.0</td>\n",
       "      <td>1</td>\n",
       "      <td>0</td>\n",
       "      <td>1</td>\n",
       "      <td>0</td>\n",
       "      <td>0</td>\n",
       "      <td>1455.140762</td>\n",
       "    </tr>\n",
       "    <tr>\n",
       "      <th>4</th>\n",
       "      <td>1000002</td>\n",
       "      <td>2769</td>\n",
       "      <td>M</td>\n",
       "      <td>60.0</td>\n",
       "      <td>16</td>\n",
       "      <td>C</td>\n",
       "      <td>4</td>\n",
       "      <td>0</td>\n",
       "      <td>8</td>\n",
       "      <td>NaN</td>\n",
       "      <td>NaN</td>\n",
       "      <td>7969.0</td>\n",
       "      <td>0</td>\n",
       "      <td>1</td>\n",
       "      <td>0</td>\n",
       "      <td>0</td>\n",
       "      <td>1</td>\n",
       "      <td>7692.763547</td>\n",
       "    </tr>\n",
       "  </tbody>\n",
       "</table>\n",
       "</div>"
      ],
      "text/plain": [
       "   User_ID  Product_ID Gender   Age  Occupation City_Category  \\\n",
       "0  1000001         684      F   8.5          10             A   \n",
       "1  1000001        2406      F   8.5          10             A   \n",
       "2  1000001         868      F   8.5          10             A   \n",
       "3  1000001         844      F   8.5          10             A   \n",
       "4  1000002        2769      M  60.0          16             C   \n",
       "\n",
       "   Stay_In_Current_City_Years  Marital_Status  Product_Category_1  \\\n",
       "0                           2               0                   3   \n",
       "1                           2               0                   1   \n",
       "2                           2               0                  12   \n",
       "3                           2               0                  12   \n",
       "4                           4               0                   8   \n",
       "\n",
       "   Product_Category_2  Product_Category_3  Purchase  Gender_F  Gender_M  \\\n",
       "0                 NaN                 NaN    8370.0         1         0   \n",
       "1                 6.0                14.0   15200.0         1         0   \n",
       "2                 NaN                 NaN    1422.0         1         0   \n",
       "3                14.0                 NaN    1057.0         1         0   \n",
       "4                 NaN                 NaN    7969.0         0         1   \n",
       "\n",
       "   City_Category_A  City_Category_B  City_Category_C  avg_product_price  \n",
       "0                1                0                0       11870.863436  \n",
       "1                1                0                0       16304.030981  \n",
       "2                1                0                0        1237.892157  \n",
       "3                1                0                0        1455.140762  \n",
       "4                0                0                1        7692.763547  "
      ]
     },
     "execution_count": 554,
     "metadata": {},
     "output_type": "execute_result"
    }
   ],
   "source": [
    "dict_avg_purchase = {}\n",
    "avg_purchase_price = full['Purchase'].mean()\n",
    "for index,row in full.groupby('Product_ID').mean().reset_index()[['Product_ID','Purchase']].iterrows():\n",
    "    dict_avg_purchase[row['Product_ID']] = row['Purchase']\n",
    "full['avg_product_price'] = full['Product_ID'].apply(lambda x: dict_avg_purchase[x] if x in dict_avg_purchase.keys() else avg_purchase_price)\n",
    "full.head()"
   ]
  },
  {
   "cell_type": "markdown",
   "metadata": {},
   "source": [
    "### Which columns have `NA` values?"
   ]
  },
  {
   "cell_type": "code",
   "execution_count": 555,
   "metadata": {},
   "outputs": [
    {
     "data": {
      "text/plain": [
       "User_ID                            0\n",
       "Product_ID                         0\n",
       "Gender                             0\n",
       "Age                                0\n",
       "Occupation                         0\n",
       "City_Category                      0\n",
       "Stay_In_Current_City_Years         0\n",
       "Marital_Status                     0\n",
       "Product_Category_1                 0\n",
       "Product_Category_2            245982\n",
       "Product_Category_3            545809\n",
       "Purchase                      233599\n",
       "Gender_F                           0\n",
       "Gender_M                           0\n",
       "City_Category_A                    0\n",
       "City_Category_B                    0\n",
       "City_Category_C                    0\n",
       "avg_product_price                 61\n",
       "dtype: int64"
      ]
     },
     "execution_count": 555,
     "metadata": {},
     "output_type": "execute_result"
    }
   ],
   "source": [
    "full.isna().sum()"
   ]
  },
  {
   "cell_type": "code",
   "execution_count": 556,
   "metadata": {},
   "outputs": [],
   "source": [
    "#full['Purchase'].mean() == full['Purchase'].iloc[:train_shape[0]].mean()"
   ]
  },
  {
   "cell_type": "markdown",
   "metadata": {},
   "source": [
    " Fill the missing `avg_product_price` values with the mean purchase price of that product"
   ]
  },
  {
   "cell_type": "code",
   "execution_count": 557,
   "metadata": {},
   "outputs": [],
   "source": [
    "full['avg_product_price'].fillna(avg_purchase_price, inplace = True)"
   ]
  },
  {
   "cell_type": "markdown",
   "metadata": {},
   "source": [
    "Drop the Gender and City category columns since they have already been encoded"
   ]
  },
  {
   "cell_type": "code",
   "execution_count": 558,
   "metadata": {},
   "outputs": [],
   "source": [
    "full = full.drop(['Gender','City_Category'], axis=1)"
   ]
  },
  {
   "cell_type": "markdown",
   "metadata": {},
   "source": [
    "#### Create new features bases on the counts of User IDs ,Product IDs, Age, Occupation and Product_Category_1"
   ]
  },
  {
   "cell_type": "code",
   "execution_count": 559,
   "metadata": {},
   "outputs": [],
   "source": [
    "def get_counts(df, parameter,newcolname=None):\n",
    "    newdict = {}\n",
    "    if not newcolname:\n",
    "        newcolname = \"count_\"+parameter\n",
    "    grouping = df.groupby(parameter)\n",
    "    for key, val in grouping:\n",
    "        newdict[key] = val.size\n",
    "    df[newcolname] = df[parameter].apply(lambda x: newdict[x])/df.size ##normalized counts\n",
    "    return df"
   ]
  },
  {
   "cell_type": "code",
   "execution_count": 560,
   "metadata": {},
   "outputs": [],
   "source": [
    "count_features = ['User_ID', 'Product_ID', 'Age', 'Occupation','Product_Category_1']\n",
    "for feature in count_features:\n",
    "    full = get_counts(full, feature)"
   ]
  },
  {
   "cell_type": "code",
   "execution_count": 444,
   "metadata": {},
   "outputs": [],
   "source": [
    "#plt.style.use('fivethirtyeight')\n",
    "#plt.figure(figsize = (10,8))\n",
    "#sns.heatmap( train.corr())\n",
    "#full.corr()"
   ]
  },
  {
   "cell_type": "code",
   "execution_count": 445,
   "metadata": {},
   "outputs": [],
   "source": [
    "#df_user= train.groupby('User_ID')['Product_ID'].count().reset_index()\n",
    "#df_user.columns = ['User_ID', 'num_purchases']\n",
    "#train = pd.merge(train, df_user , on = 'User_ID')\n"
   ]
  },
  {
   "cell_type": "markdown",
   "metadata": {},
   "source": [
    "Replace NA values in `Product_Category_2` and `Product_Category_3`"
   ]
  },
  {
   "cell_type": "code",
   "execution_count": 561,
   "metadata": {},
   "outputs": [],
   "source": [
    "full['Product_Category_2'].fillna(-999,inplace = True)"
   ]
  },
  {
   "cell_type": "code",
   "execution_count": 562,
   "metadata": {},
   "outputs": [],
   "source": [
    "full['Product_Category_3'].fillna(-999,inplace = True)"
   ]
  },
  {
   "cell_type": "markdown",
   "metadata": {},
   "source": [
    "Divide dataset into train and test as in the original data. Pre-processing is complete at this stage."
   ]
  },
  {
   "cell_type": "code",
   "execution_count": 563,
   "metadata": {},
   "outputs": [
    {
     "name": "stdout",
     "output_type": "stream",
     "text": [
      "(550068, 21)\n",
      "(233599, 21)\n"
     ]
    }
   ],
   "source": [
    "train = full.iloc[:train_shape[0],:]\n",
    "test = full.iloc[train_shape[0]:,:]\n",
    "print(train.shape)\n",
    "print(test.shape)\n",
    "#train.drop(['Purchase'], axis =1, inplace = True)"
   ]
  },
  {
   "cell_type": "code",
   "execution_count": 564,
   "metadata": {},
   "outputs": [],
   "source": [
    "target = train['Purchase']"
   ]
  },
  {
   "cell_type": "code",
   "execution_count": 565,
   "metadata": {},
   "outputs": [
    {
     "name": "stderr",
     "output_type": "stream",
     "text": [
      "/Users/debashis/anaconda3/lib/python3.6/site-packages/pandas/core/frame.py:3940: SettingWithCopyWarning: \n",
      "A value is trying to be set on a copy of a slice from a DataFrame\n",
      "\n",
      "See the caveats in the documentation: http://pandas.pydata.org/pandas-docs/stable/indexing.html#indexing-view-versus-copy\n",
      "  errors=errors)\n"
     ]
    }
   ],
   "source": [
    "train.drop(['Purchase'], axis =1, inplace = True)"
   ]
  },
  {
   "cell_type": "code",
   "execution_count": 566,
   "metadata": {},
   "outputs": [],
   "source": [
    "test.drop(['Purchase'], axis =1, inplace = True)"
   ]
  },
  {
   "cell_type": "markdown",
   "metadata": {},
   "source": [
    "### Generate train and test splits by masking"
   ]
  },
  {
   "cell_type": "code",
   "execution_count": 567,
   "metadata": {},
   "outputs": [],
   "source": [
    "X=train.values\n",
    "y=target.values\n",
    "itrain, itest = train_test_split(range(train.shape[0]), test_size=0.3,random_state = 42)\n",
    "mask=np.ones(train.shape[0], dtype='int')\n",
    "mask[itrain]=1\n",
    "mask[itest]=0\n",
    "mask = (mask==1)\n",
    "Xtrain, Xtest, ytrain, ytest = X[mask], X[~mask], y[mask], y[~mask]"
   ]
  },
  {
   "cell_type": "code",
   "execution_count": 568,
   "metadata": {},
   "outputs": [],
   "source": [
    "def grid_search(clf, parameters, X, y, n_jobs=1, n_folds=3, score_func=None):\n",
    "    if score_func:\n",
    "        gs = GridSearchCV(clf, param_grid=parameters, cv=n_folds, n_jobs=n_jobs, scoring=score_func,verbose =2)\n",
    "    else:\n",
    "        print('Doing grid search')\n",
    "        gs = GridSearchCV(clf, param_grid=parameters, n_jobs=n_jobs, cv=n_folds, verbose =2)\n",
    "    gs.fit(X, y)\n",
    "    print (\"BEST\", gs.best_params_, gs.best_score_)\n",
    "    best = gs.best_estimator_\n",
    "    return best\n",
    "\n",
    "\n",
    "def do_regression(model,  Xtrain, ytrain, Xtest, ytest, parameters, n_folds=3, n_jobs=1):\n",
    "    if parameters:\n",
    "        model = grid_search(model, parameters, Xtrain, ytrain, n_jobs=n_jobs, n_folds=n_folds)\n",
    "    model=model.fit(Xtrain, ytrain)\n",
    "    training_score = model.score(Xtrain, ytrain)\n",
    "    test_score = model.score(Xtest, ytest)\n",
    "    print (\"############# based on standard predict ################\")\n",
    "    print (\"coefficient of determination R^2 on training data: %0.2f\" % (training_score))\n",
    "    print (\"coefficient of determination R^2 on test data:     %0.2f\" % (test_score))\n",
    "    print (\"########################################################\")\n",
    "    return model, Xtrain, ytrain, Xtest, ytest\n",
    "\n"
   ]
  },
  {
   "cell_type": "markdown",
   "metadata": {},
   "source": [
    "## ML models\n",
    "First we will try Random Forests regressor model. All cross-validation studies can be found towards the end of this notebook."
   ]
  },
  {
   "cell_type": "code",
   "execution_count": 569,
   "metadata": {},
   "outputs": [
    {
     "name": "stderr",
     "output_type": "stream",
     "text": [
      "[Parallel(n_jobs=-1)]: Using backend ThreadingBackend with 4 concurrent workers.\n"
     ]
    },
    {
     "name": "stdout",
     "output_type": "stream",
     "text": [
      "building tree 1 of 700building tree 2 of 700building tree 3 of 700building tree 4 of 700\n",
      "\n",
      "\n",
      "\n",
      "building tree 5 of 700\n",
      "building tree 6 of 700\n",
      "building tree 7 of 700\n",
      "building tree 8 of 700\n",
      "building tree 9 of 700\n",
      "building tree 10 of 700\n",
      "building tree 11 of 700\n",
      "building tree 12 of 700\n",
      "building tree 13 of 700\n",
      "building tree 14 of 700\n",
      "building tree 15 of 700\n",
      "building tree 16 of 700\n",
      "building tree 17 of 700\n",
      "building tree 18 of 700\n",
      "building tree 19 of 700\n",
      "building tree 20 of 700\n",
      "building tree 21 of 700\n",
      "building tree 22 of 700\n",
      "building tree 23 of 700\n",
      "building tree 24 of 700\n",
      "building tree 25 of 700\n",
      "building tree 26 of 700\n",
      "building tree 27 of 700\n",
      "building tree 28 of 700\n",
      "building tree 29 of 700\n",
      "building tree 30 of 700\n",
      "building tree 31 of 700\n",
      "building tree 32 of 700\n",
      "building tree 33 of 700\n",
      "building tree 34 of 700\n",
      "building tree 35 of 700\n",
      "building tree 36 of 700\n"
     ]
    },
    {
     "name": "stderr",
     "output_type": "stream",
     "text": [
      "[Parallel(n_jobs=-1)]: Done  33 tasks      | elapsed:   27.4s\n"
     ]
    },
    {
     "name": "stdout",
     "output_type": "stream",
     "text": [
      "building tree 37 of 700\n",
      "building tree 38 of 700\n",
      "building tree 39 of 700\n",
      "building tree 40 of 700\n",
      "building tree 41 of 700\n",
      "building tree 42 of 700\n",
      "building tree 43 of 700\n",
      "building tree 44 of 700\n",
      "building tree 45 of 700\n",
      "building tree 46 of 700\n",
      "building tree 47 of 700\n",
      "building tree 48 of 700\n",
      "building tree 49 of 700\n",
      "building tree 50 of 700\n",
      "building tree 51 of 700\n",
      "building tree 52 of 700\n",
      "building tree 53 of 700\n",
      "building tree 54 of 700\n",
      "building tree 55 of 700\n",
      "building tree 56 of 700\n",
      "building tree 57 of 700\n",
      "building tree 58 of 700\n",
      "building tree 59 of 700\n",
      "building tree 60 of 700\n",
      "building tree 61 of 700\n",
      "building tree 62 of 700\n",
      "building tree 63 of 700\n",
      "building tree 64 of 700\n",
      "building tree 65 of 700\n",
      "building tree 66 of 700\n",
      "building tree 67 of 700\n",
      "building tree 68 of 700\n",
      "building tree 69 of 700\n",
      "building tree 70 of 700\n",
      "building tree 71 of 700\n",
      "building tree 72 of 700\n",
      "building tree 73 of 700\n",
      "building tree 74 of 700\n",
      "building tree 75 of 700\n",
      "building tree 76 of 700\n",
      "building tree 77 of 700\n",
      "building tree 78 of 700\n",
      "building tree 79 of 700\n",
      "building tree 80 of 700\n",
      "building tree 81 of 700\n",
      "building tree 82 of 700\n",
      "building tree 83 of 700\n",
      "building tree 84 of 700\n",
      "building tree 85 of 700\n",
      "building tree 86 of 700\n",
      "building tree 87 of 700\n",
      "building tree 88 of 700\n",
      "building tree 89 of 700\n",
      "building tree 90 of 700\n",
      "building tree 91 of 700\n",
      "building tree 92 of 700\n",
      "building tree 93 of 700\n",
      "building tree 94 of 700\n",
      "building tree 95 of 700\n",
      "building tree 96 of 700\n",
      "building tree 97 of 700\n",
      "building tree 98 of 700\n",
      "building tree 99 of 700\n",
      "building tree 100 of 700\n",
      "building tree 101 of 700\n",
      "building tree 102 of 700\n",
      "building tree 103 of 700\n",
      "building tree 104 of 700\n",
      "building tree 105 of 700\n",
      "building tree 106 of 700\n",
      "building tree 107 of 700\n",
      "building tree 108 of 700\n",
      "building tree 109 of 700\n",
      "building tree 110 of 700\n",
      "building tree 111 of 700\n",
      "building tree 112 of 700\n",
      "building tree 113 of 700\n",
      "building tree 114 of 700\n",
      "building tree 115 of 700\n",
      "building tree 116 of 700\n",
      "building tree 117 of 700\n",
      "building tree 118 of 700\n",
      "building tree 119 of 700\n",
      "building tree 120 of 700\n",
      "building tree 121 of 700\n",
      "building tree 122 of 700\n",
      "building tree 123 of 700\n",
      "building tree 124 of 700\n",
      "building tree 125 of 700\n",
      "building tree 126 of 700\n",
      "building tree 127 of 700\n",
      "building tree 128 of 700\n",
      "building tree 129 of 700\n",
      "building tree 130 of 700\n",
      "building tree 131 of 700\n",
      "building tree 132 of 700\n",
      "building tree 133 of 700\n",
      "building tree 134 of 700\n",
      "building tree 135 of 700\n",
      "building tree 136 of 700\n",
      "building tree 137 of 700\n",
      "building tree 138 of 700\n",
      "building tree 139 of 700\n",
      "building tree 140 of 700\n",
      "building tree 141 of 700\n",
      "building tree 142 of 700\n",
      "building tree 143 of 700\n",
      "building tree 144 of 700\n",
      "building tree 145 of 700\n",
      "building tree 146 of 700\n",
      "building tree 147 of 700\n",
      "building tree 148 of 700\n",
      "building tree 149 of 700\n",
      "building tree 150 of 700\n",
      "building tree 151 of 700\n",
      "building tree 152 of 700\n",
      "building tree 153 of 700\n",
      "building tree 154 of 700\n",
      "building tree 155 of 700\n",
      "building tree 156 of 700\n",
      "building tree 157 of 700\n",
      "building tree 158 of 700\n"
     ]
    },
    {
     "name": "stderr",
     "output_type": "stream",
     "text": [
      "[Parallel(n_jobs=-1)]: Done 154 tasks      | elapsed:  2.0min\n"
     ]
    },
    {
     "name": "stdout",
     "output_type": "stream",
     "text": [
      "building tree 159 of 700\n",
      "building tree 160 of 700\n",
      "building tree 161 of 700\n",
      "building tree 162 of 700\n",
      "building tree 163 of 700\n",
      "building tree 164 of 700\n",
      "building tree 165 of 700\n",
      "building tree 166 of 700\n",
      "building tree 167 of 700\n",
      "building tree 168 of 700\n",
      "building tree 169 of 700\n",
      "building tree 170 of 700\n",
      "building tree 171 of 700\n",
      "building tree 172 of 700\n",
      "building tree 173 of 700\n",
      "building tree 174 of 700\n",
      "building tree 175 of 700\n",
      "building tree 176 of 700\n",
      "building tree 177 of 700building tree 178 of 700\n",
      "\n",
      "building tree 179 of 700\n",
      "building tree 180 of 700\n",
      "building tree 181 of 700\n",
      "building tree 182 of 700\n",
      "building tree 183 of 700\n",
      "building tree 184 of 700\n",
      "building tree 185 of 700\n",
      "building tree 186 of 700\n",
      "building tree 187 of 700\n",
      "building tree 188 of 700\n",
      "building tree 189 of 700\n",
      "building tree 190 of 700\n",
      "building tree 191 of 700\n",
      "building tree 192 of 700\n",
      "building tree 193 of 700\n",
      "building tree 194 of 700\n",
      "building tree 195 of 700\n",
      "building tree 196 of 700\n",
      "building tree 197 of 700\n",
      "building tree 198 of 700\n",
      "building tree 199 of 700\n",
      "building tree 200 of 700\n",
      "building tree 201 of 700\n",
      "building tree 202 of 700\n",
      "building tree 203 of 700\n",
      "building tree 204 of 700\n",
      "building tree 205 of 700\n",
      "building tree 206 of 700\n",
      "building tree 207 of 700\n",
      "building tree 208 of 700\n",
      "building tree 209 of 700\n",
      "building tree 210 of 700\n",
      "building tree 211 of 700\n",
      "building tree 212 of 700\n",
      "building tree 213 of 700\n",
      "building tree 214 of 700\n",
      "building tree 215 of 700\n",
      "building tree 216 of 700\n",
      "building tree 217 of 700\n",
      "building tree 218 of 700\n",
      "building tree 219 of 700\n",
      "building tree 220 of 700\n",
      "building tree 221 of 700\n",
      "building tree 222 of 700\n",
      "building tree 223 of 700\n",
      "building tree 224 of 700\n",
      "building tree 225 of 700\n",
      "building tree 226 of 700\n",
      "building tree 227 of 700\n",
      "building tree 228 of 700\n",
      "building tree 229 of 700\n",
      "building tree 230 of 700\n",
      "building tree 231 of 700\n",
      "building tree 232 of 700\n",
      "building tree 233 of 700\n",
      "building tree 234 of 700\n",
      "building tree 235 of 700\n",
      "building tree 236 of 700\n",
      "building tree 237 of 700\n",
      "building tree 238 of 700\n",
      "building tree 239 of 700\n",
      "building tree 240 of 700\n",
      "building tree 241 of 700\n",
      "building tree 242 of 700\n",
      "building tree 243 of 700\n",
      "building tree 244 of 700\n",
      "building tree 245 of 700\n",
      "building tree 246 of 700\n",
      "building tree 247 of 700\n",
      "building tree 248 of 700\n",
      "building tree 249 of 700\n",
      "building tree 250 of 700\n",
      "building tree 251 of 700\n",
      "building tree 252 of 700\n",
      "building tree 253 of 700\n",
      "building tree 254 of 700\n",
      "building tree 255 of 700\n",
      "building tree 256 of 700\n",
      "building tree 257 of 700\n",
      "building tree 258 of 700\n",
      "building tree 259 of 700\n",
      "building tree 260 of 700\n",
      "building tree 261 of 700\n",
      "building tree 262 of 700\n",
      "building tree 263 of 700\n",
      "building tree 264 of 700\n",
      "building tree 265 of 700\n",
      "building tree 266 of 700\n",
      "building tree 267 of 700\n",
      "building tree 268 of 700\n",
      "building tree 269 of 700\n",
      "building tree 270 of 700\n",
      "building tree 271 of 700\n",
      "building tree 272 of 700\n",
      "building tree 273 of 700\n",
      "building tree 274 of 700\n",
      "building tree 275 of 700\n",
      "building tree 276 of 700\n",
      "building tree 277 of 700\n",
      "building tree 278 of 700\n",
      "building tree 279 of 700\n",
      "building tree 280 of 700\n",
      "building tree 281 of 700\n",
      "building tree 282 of 700\n",
      "building tree 283 of 700\n",
      "building tree 284 of 700\n",
      "building tree 285 of 700\n",
      "building tree 286 of 700\n",
      "building tree 287 of 700\n",
      "building tree 288 of 700\n",
      "building tree 289 of 700\n",
      "building tree 290 of 700\n",
      "building tree 291 of 700\n",
      "building tree 292 of 700\n",
      "building tree 293 of 700\n",
      "building tree 294 of 700\n",
      "building tree 295 of 700\n",
      "building tree 296 of 700\n",
      "building tree 297 of 700\n",
      "building tree 298 of 700\n",
      "building tree 299 of 700\n",
      "building tree 300 of 700\n",
      "building tree 301 of 700\n",
      "building tree 302 of 700\n",
      "building tree 303 of 700\n",
      "building tree 304 of 700\n",
      "building tree 305 of 700\n",
      "building tree 306 of 700\n",
      "building tree 307 of 700\n",
      "building tree 308 of 700\n",
      "building tree 309 of 700\n",
      "building tree 310 of 700\n",
      "building tree 311 of 700\n",
      "building tree 312 of 700\n",
      "building tree 313 of 700\n",
      "building tree 314 of 700\n",
      "building tree 315 of 700\n",
      "building tree 316 of 700\n",
      "building tree 317 of 700\n",
      "building tree 318 of 700\n",
      "building tree 319 of 700\n",
      "building tree 320 of 700\n",
      "building tree 321 of 700\n",
      "building tree 322 of 700\n",
      "building tree 323 of 700\n",
      "building tree 324 of 700\n",
      "building tree 325 of 700\n",
      "building tree 326 of 700\n",
      "building tree 327 of 700\n",
      "building tree 328 of 700\n",
      "building tree 329 of 700\n",
      "building tree 330 of 700\n",
      "building tree 331 of 700\n",
      "building tree 332 of 700\n",
      "building tree 333 of 700\n",
      "building tree 334 of 700\n",
      "building tree 335 of 700\n",
      "building tree 336 of 700\n",
      "building tree 337 of 700\n",
      "building tree 338 of 700\n",
      "building tree 339 of 700\n",
      "building tree 340 of 700\n",
      "building tree 341 of 700\n",
      "building tree 342 of 700\n",
      "building tree 343 of 700\n",
      "building tree 344 of 700\n",
      "building tree 345 of 700\n",
      "building tree 346 of 700\n",
      "building tree 347 of 700\n",
      "building tree 348 of 700\n",
      "building tree 349 of 700\n",
      "building tree 350 of 700\n",
      "building tree 351 of 700\n",
      "building tree 352 of 700\n",
      "building tree 353 of 700\n",
      "building tree 354 of 700\n",
      "building tree 355 of 700\n",
      "building tree 356 of 700\n",
      "building tree 357 of 700\n",
      "building tree 358 of 700\n",
      "building tree 359 of 700\n",
      "building tree 360 of 700\n"
     ]
    },
    {
     "name": "stderr",
     "output_type": "stream",
     "text": [
      "[Parallel(n_jobs=-1)]: Done 357 tasks      | elapsed:  4.6min\n"
     ]
    },
    {
     "name": "stdout",
     "output_type": "stream",
     "text": [
      "building tree 361 of 700\n",
      "building tree 362 of 700\n",
      "building tree 363 of 700\n",
      "building tree 364 of 700\n",
      "building tree 365 of 700\n",
      "building tree 366 of 700\n",
      "building tree 367 of 700\n",
      "building tree 368 of 700\n",
      "building tree 369 of 700\n",
      "building tree 370 of 700\n",
      "building tree 371 of 700\n",
      "building tree 372 of 700\n",
      "building tree 373 of 700\n",
      "building tree 374 of 700\n",
      "building tree 375 of 700\n",
      "building tree 376 of 700\n",
      "building tree 377 of 700\n",
      "building tree 378 of 700\n",
      "building tree 379 of 700\n",
      "building tree 380 of 700\n",
      "building tree 381 of 700\n",
      "building tree 382 of 700\n",
      "building tree 383 of 700\n",
      "building tree 384 of 700\n",
      "building tree 385 of 700\n",
      "building tree 386 of 700\n",
      "building tree 387 of 700\n",
      "building tree 388 of 700\n",
      "building tree 389 of 700\n",
      "building tree 390 of 700\n",
      "building tree 391 of 700\n",
      "building tree 392 of 700\n",
      "building tree 393 of 700\n",
      "building tree 394 of 700\n",
      "building tree 395 of 700\n",
      "building tree 396 of 700\n",
      "building tree 397 of 700\n",
      "building tree 398 of 700\n",
      "building tree 399 of 700\n",
      "building tree 400 of 700\n",
      "building tree 401 of 700\n",
      "building tree 402 of 700\n",
      "building tree 403 of 700\n",
      "building tree 404 of 700\n",
      "building tree 405 of 700\n",
      "building tree 406 of 700\n",
      "building tree 407 of 700\n",
      "building tree 408 of 700\n",
      "building tree 409 of 700\n",
      "building tree 410 of 700\n",
      "building tree 411 of 700\n",
      "building tree 412 of 700\n",
      "building tree 413 of 700\n",
      "building tree 414 of 700\n",
      "building tree 415 of 700\n",
      "building tree 416 of 700\n",
      "building tree 417 of 700\n",
      "building tree 418 of 700\n",
      "building tree 419 of 700\n",
      "building tree 420 of 700\n",
      "building tree 421 of 700\n",
      "building tree 422 of 700\n",
      "building tree 423 of 700\n",
      "building tree 424 of 700\n",
      "building tree 425 of 700\n",
      "building tree 426 of 700\n",
      "building tree 427 of 700\n",
      "building tree 428 of 700\n",
      "building tree 429 of 700\n",
      "building tree 430 of 700\n",
      "building tree 431 of 700\n",
      "building tree 432 of 700\n",
      "building tree 433 of 700\n",
      "building tree 434 of 700\n",
      "building tree 435 of 700\n",
      "building tree 436 of 700\n",
      "building tree 437 of 700\n",
      "building tree 438 of 700\n",
      "building tree 439 of 700\n",
      "building tree 440 of 700\n",
      "building tree 441 of 700\n",
      "building tree 442 of 700\n",
      "building tree 443 of 700\n",
      "building tree 444 of 700\n",
      "building tree 445 of 700\n",
      "building tree 446 of 700\n",
      "building tree 447 of 700\n",
      "building tree 448 of 700\n",
      "building tree 449 of 700\n",
      "building tree 450 of 700\n",
      "building tree 451 of 700\n",
      "building tree 452 of 700\n",
      "building tree 453 of 700\n",
      "building tree 454 of 700\n",
      "building tree 455 of 700\n",
      "building tree 456 of 700\n",
      "building tree 457 of 700\n",
      "building tree 458 of 700\n",
      "building tree 459 of 700\n",
      "building tree 460 of 700\n",
      "building tree 461 of 700\n",
      "building tree 462 of 700\n",
      "building tree 463 of 700\n",
      "building tree 464 of 700\n",
      "building tree 465 of 700\n",
      "building tree 466 of 700\n",
      "building tree 467 of 700\n",
      "building tree 468 of 700\n",
      "building tree 469 of 700\n",
      "building tree 470 of 700\n",
      "building tree 471 of 700\n",
      "building tree 472 of 700\n",
      "building tree 473 of 700\n",
      "building tree 474 of 700\n",
      "building tree 475 of 700\n",
      "building tree 476 of 700\n",
      "building tree 477 of 700\n",
      "building tree 478 of 700\n",
      "building tree 479 of 700\n",
      "building tree 480 of 700\n",
      "building tree 481 of 700\n",
      "building tree 482 of 700\n",
      "building tree 483 of 700\n",
      "building tree 484 of 700\n",
      "building tree 485 of 700\n",
      "building tree 486 of 700\n",
      "building tree 487 of 700\n",
      "building tree 488 of 700\n",
      "building tree 489 of 700\n",
      "building tree 490 of 700\n",
      "building tree 491 of 700\n",
      "building tree 492 of 700\n",
      "building tree 493 of 700\n",
      "building tree 494 of 700\n",
      "building tree 495 of 700\n",
      "building tree 496 of 700\n",
      "building tree 497 of 700\n",
      "building tree 498 of 700\n",
      "building tree 499 of 700\n",
      "building tree 500 of 700\n",
      "building tree 501 of 700\n",
      "building tree 502 of 700\n",
      "building tree 503 of 700\n",
      "building tree 504 of 700\n",
      "building tree 505 of 700\n",
      "building tree 506 of 700\n",
      "building tree 507 of 700\n",
      "building tree 508 of 700\n",
      "building tree 509 of 700\n",
      "building tree 510 of 700\n",
      "building tree 511 of 700\n",
      "building tree 512 of 700\n",
      "building tree 513 of 700\n",
      "building tree 514 of 700\n",
      "building tree 515 of 700\n",
      "building tree 516 of 700\n",
      "building tree 517 of 700\n",
      "building tree 518 of 700\n",
      "building tree 519 of 700\n",
      "building tree 520 of 700\n",
      "building tree 521 of 700\n",
      "building tree 522 of 700\n",
      "building tree 523 of 700\n",
      "building tree 524 of 700\n",
      "building tree 525 of 700\n",
      "building tree 526 of 700\n",
      "building tree 527 of 700\n",
      "building tree 528 of 700\n",
      "building tree 529 of 700\n",
      "building tree 530 of 700\n",
      "building tree 531 of 700\n",
      "building tree 532 of 700\n",
      "building tree 533 of 700\n",
      "building tree 534 of 700\n",
      "building tree 535 of 700\n",
      "building tree 536 of 700\n",
      "building tree 537 of 700\n",
      "building tree 538 of 700\n",
      "building tree 539 of 700\n",
      "building tree 540 of 700\n",
      "building tree 541 of 700\n",
      "building tree 542 of 700\n",
      "building tree 543 of 700\n",
      "building tree 544 of 700\n",
      "building tree 545 of 700\n",
      "building tree 546 of 700\n",
      "building tree 547 of 700\n",
      "building tree 548 of 700\n",
      "building tree 549 of 700\n",
      "building tree 550 of 700\n",
      "building tree 551 of 700\n",
      "building tree 552 of 700\n",
      "building tree 553 of 700\n",
      "building tree 554 of 700\n",
      "building tree 555 of 700\n",
      "building tree 556 of 700\n",
      "building tree 557 of 700\n",
      "building tree 558 of 700\n",
      "building tree 559 of 700\n",
      "building tree 560 of 700\n",
      "building tree 561 of 700\n",
      "building tree 562 of 700\n",
      "building tree 563 of 700\n",
      "building tree 564 of 700\n",
      "building tree 565 of 700\n",
      "building tree 566 of 700\n",
      "building tree 567 of 700\n",
      "building tree 568 of 700\n",
      "building tree 569 of 700\n",
      "building tree 570 of 700\n",
      "building tree 571 of 700\n",
      "building tree 572 of 700\n",
      "building tree 573 of 700\n",
      "building tree 574 of 700\n",
      "building tree 575 of 700\n",
      "building tree 576 of 700\n",
      "building tree 577 of 700\n",
      "building tree 578 of 700\n",
      "building tree 579 of 700\n",
      "building tree 580 of 700\n",
      "building tree 581 of 700\n",
      "building tree 582 of 700\n",
      "building tree 583 of 700\n",
      "building tree 584 of 700\n",
      "building tree 585 of 700\n",
      "building tree 586 of 700\n",
      "building tree 587 of 700\n",
      "building tree 588 of 700\n",
      "building tree 589 of 700\n",
      "building tree 590 of 700\n",
      "building tree 591 of 700\n",
      "building tree 592 of 700\n",
      "building tree 593 of 700\n",
      "building tree 594 of 700\n",
      "building tree 595 of 700\n",
      "building tree 596 of 700\n",
      "building tree 597 of 700\n",
      "building tree 598 of 700\n",
      "building tree 599 of 700\n",
      "building tree 600 of 700building tree 601 of 700\n",
      "\n",
      "building tree 602 of 700\n",
      "building tree 603 of 700\n",
      "building tree 604 of 700\n",
      "building tree 605 of 700\n",
      "building tree 606 of 700\n",
      "building tree 607 of 700\n",
      "building tree 608 of 700\n",
      "building tree 609 of 700\n",
      "building tree 610 of 700\n",
      "building tree 611 of 700\n",
      "building tree 612 of 700\n",
      "building tree 613 of 700\n",
      "building tree 614 of 700\n",
      "building tree 615 of 700\n",
      "building tree 616 of 700\n",
      "building tree 617 of 700\n",
      "building tree 618 of 700\n",
      "building tree 619 of 700\n",
      "building tree 620 of 700\n",
      "building tree 621 of 700\n",
      "building tree 622 of 700\n",
      "building tree 623 of 700\n",
      "building tree 624 of 700\n",
      "building tree 625 of 700\n",
      "building tree 626 of 700\n",
      "building tree 627 of 700\n",
      "building tree 628 of 700\n",
      "building tree 629 of 700\n",
      "building tree 630 of 700\n",
      "building tree 631 of 700\n",
      "building tree 632 of 700\n",
      "building tree 633 of 700\n",
      "building tree 634 of 700\n",
      "building tree 635 of 700\n",
      "building tree 636 of 700\n",
      "building tree 637 of 700\n",
      "building tree 638 of 700\n",
      "building tree 639 of 700\n",
      "building tree 640 of 700\n",
      "building tree 641 of 700\n",
      "building tree 642 of 700\n",
      "building tree 643 of 700\n",
      "building tree 644 of 700\n"
     ]
    },
    {
     "name": "stderr",
     "output_type": "stream",
     "text": [
      "[Parallel(n_jobs=-1)]: Done 640 tasks      | elapsed:  8.2min\n"
     ]
    },
    {
     "name": "stdout",
     "output_type": "stream",
     "text": [
      "building tree 645 of 700\n",
      "building tree 646 of 700\n",
      "building tree 647 of 700\n",
      "building tree 648 of 700\n",
      "building tree 649 of 700\n",
      "building tree 650 of 700\n",
      "building tree 651 of 700\n",
      "building tree 652 of 700\n",
      "building tree 653 of 700\n",
      "building tree 654 of 700\n",
      "building tree 655 of 700\n",
      "building tree 656 of 700\n",
      "building tree 657 of 700\n",
      "building tree 658 of 700\n",
      "building tree 659 of 700\n",
      "building tree 660 of 700\n",
      "building tree 661 of 700\n",
      "building tree 662 of 700\n",
      "building tree 663 of 700\n",
      "building tree 664 of 700\n",
      "building tree 665 of 700\n",
      "building tree 666 of 700\n",
      "building tree 667 of 700\n",
      "building tree 668 of 700\n",
      "building tree 669 of 700\n",
      "building tree 670 of 700\n",
      "building tree 671 of 700\n",
      "building tree 672 of 700\n",
      "building tree 673 of 700\n",
      "building tree 674 of 700\n",
      "building tree 675 of 700\n",
      "building tree 676 of 700\n",
      "building tree 677 of 700\n",
      "building tree 678 of 700\n",
      "building tree 679 of 700\n",
      "building tree 680 of 700\n",
      "building tree 681 of 700\n",
      "building tree 682 of 700\n",
      "building tree 683 of 700\n",
      "building tree 684 of 700\n",
      "building tree 685 of 700\n",
      "building tree 686 of 700\n",
      "building tree 687 of 700\n",
      "building tree 688 of 700\n",
      "building tree 689 of 700\n",
      "building tree 690 of 700\n",
      "building tree 691 of 700\n",
      "building tree 692 of 700\n",
      "building tree 693 of 700\n",
      "building tree 694 of 700\n",
      "building tree 695 of 700\n",
      "building tree 696 of 700\n",
      "building tree 697 of 700\n",
      "building tree 698 of 700\n",
      "building tree 699 of 700\n",
      "building tree 700 of 700\n"
     ]
    },
    {
     "name": "stderr",
     "output_type": "stream",
     "text": [
      "[Parallel(n_jobs=-1)]: Done 700 out of 700 | elapsed:  8.9min finished\n",
      "[Parallel(n_jobs=4)]: Using backend ThreadingBackend with 4 concurrent workers.\n",
      "[Parallel(n_jobs=4)]: Done  33 tasks      | elapsed:    2.1s\n",
      "[Parallel(n_jobs=4)]: Done 154 tasks      | elapsed:   10.3s\n",
      "[Parallel(n_jobs=4)]: Done 357 tasks      | elapsed:   25.4s\n",
      "[Parallel(n_jobs=4)]: Done 640 tasks      | elapsed:   43.5s\n",
      "[Parallel(n_jobs=4)]: Done 700 out of 700 | elapsed:   47.5s finished\n",
      "[Parallel(n_jobs=4)]: Using backend ThreadingBackend with 4 concurrent workers.\n",
      "[Parallel(n_jobs=4)]: Done  33 tasks      | elapsed:    1.3s\n",
      "[Parallel(n_jobs=4)]: Done 154 tasks      | elapsed:    6.1s\n",
      "[Parallel(n_jobs=4)]: Done 357 tasks      | elapsed:   13.2s\n",
      "[Parallel(n_jobs=4)]: Done 640 tasks      | elapsed:   26.0s\n"
     ]
    },
    {
     "name": "stdout",
     "output_type": "stream",
     "text": [
      "############# based on standard predict ################\n",
      "coefficient of determination R^2 on training data: 0.88\n",
      "coefficient of determination R^2 on test data:     0.74\n",
      "########################################################\n"
     ]
    },
    {
     "name": "stderr",
     "output_type": "stream",
     "text": [
      "[Parallel(n_jobs=4)]: Done 700 out of 700 | elapsed:   28.9s finished\n"
     ]
    }
   ],
   "source": [
    "\n",
    "rfmodel = RandomForestRegressor(n_estimators = 700, max_features = 10, max_depth=None, \n",
    "                                n_jobs= -1, min_samples_split=10, min_samples_leaf = 3, \n",
    "                                random_state=123, verbose =2)\n",
    "parameters = {'n_estimators': [300,500,700], 'max_features': range(5,8)}\n",
    "rfmodel, Xtrain, ytrain, Xtest, ytest = do_regression(rfmodel, Xtrain, ytrain, \n",
    "                                                      Xtest, ytest, parameters = None, n_folds =3,\n",
    "                                                     n_jobs = -1) "
   ]
  },
  {
   "cell_type": "code",
   "execution_count": 570,
   "metadata": {},
   "outputs": [
    {
     "name": "stderr",
     "output_type": "stream",
     "text": [
      "[Parallel(n_jobs=4)]: Using backend ThreadingBackend with 4 concurrent workers.\n",
      "[Parallel(n_jobs=4)]: Done  33 tasks      | elapsed:    4.4s\n",
      "[Parallel(n_jobs=4)]: Done 154 tasks      | elapsed:   13.8s\n",
      "[Parallel(n_jobs=4)]: Done 357 tasks      | elapsed:   29.3s\n",
      "[Parallel(n_jobs=4)]: Done 640 tasks      | elapsed:   51.1s\n"
     ]
    },
    {
     "name": "stdout",
     "output_type": "stream",
     "text": [
      "RMSE =  1758.7395555571923\n"
     ]
    },
    {
     "name": "stderr",
     "output_type": "stream",
     "text": [
      "[Parallel(n_jobs=4)]: Done 700 out of 700 | elapsed:   55.0s finished\n"
     ]
    }
   ],
   "source": [
    "rf_predict_train = rfmodel.predict(Xtrain)\n",
    "print(\"RMSE = \", np.sqrt(mean_squared_error(ytrain, rf_predict_train)) )"
   ]
  },
  {
   "cell_type": "code",
   "execution_count": 572,
   "metadata": {
    "scrolled": true
   },
   "outputs": [
    {
     "name": "stderr",
     "output_type": "stream",
     "text": [
      "[Parallel(n_jobs=4)]: Using backend ThreadingBackend with 4 concurrent workers.\n",
      "[Parallel(n_jobs=4)]: Done  33 tasks      | elapsed:    1.0s\n",
      "[Parallel(n_jobs=4)]: Done 154 tasks      | elapsed:    4.3s\n",
      "[Parallel(n_jobs=4)]: Done 357 tasks      | elapsed:    9.3s\n",
      "[Parallel(n_jobs=4)]: Done 640 tasks      | elapsed:   16.5s\n"
     ]
    },
    {
     "name": "stdout",
     "output_type": "stream",
     "text": [
      "RMSE =  2565.4171970100156\n"
     ]
    },
    {
     "name": "stderr",
     "output_type": "stream",
     "text": [
      "[Parallel(n_jobs=4)]: Done 700 out of 700 | elapsed:   18.0s finished\n"
     ]
    }
   ],
   "source": [
    "rf_predict_test = rfmodel.predict(Xtest)\n",
    "print(\"RMSE = \", np.sqrt(mean_squared_error(ytest, rf_predict_test)) )"
   ]
  },
  {
   "cell_type": "code",
   "execution_count": 573,
   "metadata": {},
   "outputs": [
    {
     "data": {
      "image/png": "[encoded data removed]",
      "text/plain": [
       "<Figure size 432x288 with 1 Axes>"
      ]
     },
     "metadata": {
      "needs_background": "light"
     },
     "output_type": "display_data"
    }
   ],
   "source": [
    "importance_list = rfmodel.feature_importances_\n",
    "name_list = train.columns\n",
    "importance_list, name_list = zip(*sorted(zip(importance_list, name_list)))\n",
    "plt.barh(range(len(name_list)),importance_list,align='center')\n",
    "plt.yticks(range(len(name_list)),name_list)\n",
    "plt.xlabel('Relative Importance in the Random Forest')\n",
    "plt.ylabel('Features')\n",
    "plt.title('Relative importance of Each Feature')\n",
    "plt.show()"
   ]
  },
  {
   "cell_type": "markdown",
   "metadata": {},
   "source": [
    "### Extremely Randomized trees"
   ]
  },
  {
   "cell_type": "code",
   "execution_count": 592,
   "metadata": {},
   "outputs": [
    {
     "name": "stderr",
     "output_type": "stream",
     "text": [
      "[Parallel(n_jobs=3)]: Using backend ThreadingBackend with 3 concurrent workers.\n",
      "[Parallel(n_jobs=3)]: Done  44 tasks      | elapsed:   50.0s\n",
      "[Parallel(n_jobs=3)]: Done 194 tasks      | elapsed:  3.4min\n",
      "[Parallel(n_jobs=3)]: Done 444 tasks      | elapsed:  7.8min\n",
      "[Parallel(n_jobs=3)]: Done 500 out of 500 | elapsed:  8.7min finished\n"
     ]
    },
    {
     "data": {
      "text/plain": [
       "ExtraTreesRegressor(bootstrap=False, criterion='mse', max_depth=None,\n",
       "          max_features='auto', max_leaf_nodes=None,\n",
       "          min_impurity_decrease=0.0, min_impurity_split=None,\n",
       "          min_samples_leaf=2, min_samples_split=10,\n",
       "          min_weight_fraction_leaf=0.0, n_estimators=500, n_jobs=3,\n",
       "          oob_score=False, random_state=123, verbose=1, warm_start=False)"
      ]
     },
     "execution_count": 592,
     "metadata": {},
     "output_type": "execute_result"
    }
   ],
   "source": [
    "etmodel = ExtraTreesRegressor(n_estimators=500, max_features='auto',max_depth=None,\n",
    "                             min_samples_split=10, \n",
    "                              min_samples_leaf=2,\n",
    "                             verbose=1, n_jobs=3,random_state=123)\n",
    "etmodel.fit(Xtrain, ytrain)"
   ]
  },
  {
   "cell_type": "code",
   "execution_count": 593,
   "metadata": {},
   "outputs": [
    {
     "name": "stderr",
     "output_type": "stream",
     "text": [
      "[Parallel(n_jobs=3)]: Using backend ThreadingBackend with 3 concurrent workers.\n",
      "[Parallel(n_jobs=3)]: Done  44 tasks      | elapsed:    2.0s\n",
      "[Parallel(n_jobs=3)]: Done 194 tasks      | elapsed:    8.6s\n",
      "[Parallel(n_jobs=3)]: Done 444 tasks      | elapsed:   20.5s\n"
     ]
    },
    {
     "name": "stdout",
     "output_type": "stream",
     "text": [
      "RMSE =  2600.8370957630723\n"
     ]
    },
    {
     "name": "stderr",
     "output_type": "stream",
     "text": [
      "[Parallel(n_jobs=3)]: Done 500 out of 500 | elapsed:   24.3s finished\n"
     ]
    }
   ],
   "source": [
    "et_predict_test = etmodel.predict(Xtest)\n",
    "print(\"RMSE = \", np.sqrt(mean_squared_error(ytest, et_predict_test)) )"
   ]
  },
  {
   "cell_type": "code",
   "execution_count": 594,
   "metadata": {},
   "outputs": [
    {
     "name": "stderr",
     "output_type": "stream",
     "text": [
      "[Parallel(n_jobs=3)]: Using backend ThreadingBackend with 3 concurrent workers.\n",
      "[Parallel(n_jobs=3)]: Done  44 tasks      | elapsed:    3.8s\n",
      "[Parallel(n_jobs=3)]: Done 194 tasks      | elapsed:   17.9s\n",
      "[Parallel(n_jobs=3)]: Done 444 tasks      | elapsed:   38.9s\n"
     ]
    },
    {
     "name": "stdout",
     "output_type": "stream",
     "text": [
      "RMSE on training set =  1511.2865837617449\n"
     ]
    },
    {
     "name": "stderr",
     "output_type": "stream",
     "text": [
      "[Parallel(n_jobs=3)]: Done 500 out of 500 | elapsed:   43.6s finished\n"
     ]
    }
   ],
   "source": [
    "et_predict_train = etmodel.predict(Xtrain)\n",
    "print(\"RMSE on training set = \", np.sqrt(mean_squared_error(ytrain, et_predict_train)) )"
   ]
  },
  {
   "cell_type": "code",
   "execution_count": 595,
   "metadata": {},
   "outputs": [
    {
     "data": {
      "image/png": "[encoded data removed]",
      "text/plain": [
       "<Figure size 432x288 with 1 Axes>"
      ]
     },
     "metadata": {
      "needs_background": "light"
     },
     "output_type": "display_data"
    }
   ],
   "source": [
    "importance_list = etmodel.feature_importances_\n",
    "name_list = train.columns\n",
    "importance_list, name_list = zip(*sorted(zip(importance_list, name_list)))\n",
    "plt.barh(range(len(name_list)),importance_list,align='center')\n",
    "plt.yticks(range(len(name_list)),name_list)\n",
    "plt.xlabel('Relative Importance in the Extra Trees Regressor')\n",
    "plt.ylabel('Features')\n",
    "plt.title('Relative importance of Each Feature')\n",
    "plt.show()"
   ]
  },
  {
   "cell_type": "markdown",
   "metadata": {},
   "source": [
    "## XgBoost\n",
    "\n",
    "Now let's train the model with XGBoost. The hyperparameters were tuned via Grid Search and Cross validation techniques which can be found towards the end of the notebook. Here the best parameters have been selected for training."
   ]
  },
  {
   "cell_type": "code",
   "execution_count": 574,
   "metadata": {},
   "outputs": [],
   "source": [
    "dtrain = xgb.DMatrix(pd.DataFrame(Xtrain,columns=list(train.columns)), label=pd.DataFrame(ytrain, columns=['Purchase']))\n",
    "dtest = xgb.DMatrix(pd.DataFrame(Xtest,columns=list(train.columns)))"
   ]
  },
  {
   "cell_type": "code",
   "execution_count": 596,
   "metadata": {},
   "outputs": [],
   "source": [
    "param = {}\n",
    "param['eta'] = 0.3\n",
    "param['gamma'] = 1#1.2\n",
    "param['verbosity'] = 1\n",
    "#param['min_child_weight'] = 5\n",
    "#param['colsample_bynode'] = 0.9\n",
    "param['colsample_bytree'] = 0.8\n",
    "#param['subsample'] = 0.9\n",
    "param['lambda']= 1.6\n",
    "param['max_depth'] = 8\n",
    "\n",
    "num_boost_round = 300\n",
    "bst = xgb.train(param, dtrain,num_boost_round)"
   ]
  },
  {
   "cell_type": "code",
   "execution_count": 597,
   "metadata": {},
   "outputs": [
    {
     "data": {
      "text/plain": [
       "<matplotlib.axes._subplots.AxesSubplot at 0x1a1d157f28>"
      ]
     },
     "execution_count": 597,
     "metadata": {},
     "output_type": "execute_result"
    },
    {
     "data": {
      "image/png": "[encoded data removed]",
      "text/plain": [
       "<Figure size 432x288 with 1 Axes>"
      ]
     },
     "metadata": {
      "needs_background": "light"
     },
     "output_type": "display_data"
    }
   ],
   "source": [
    "xgb.plot_importance(bst, xlabel=None)"
   ]
  },
  {
   "cell_type": "code",
   "execution_count": 598,
   "metadata": {},
   "outputs": [],
   "source": [
    "pred_xgboost_dtrain =  bst.predict(dtrain)\n",
    "pred_xgboost_dtest = bst.predict(dtest)"
   ]
  },
  {
   "cell_type": "code",
   "execution_count": 599,
   "metadata": {},
   "outputs": [
    {
     "name": "stdout",
     "output_type": "stream",
     "text": [
      "RMSE on test set =  2490.93075437365\n",
      "RMSE of training set =  2033.086626785069\n"
     ]
    }
   ],
   "source": [
    "print(\"RMSE on test set = \", np.sqrt(mean_squared_error(ytest, pred_xgboost_dtest)) )\n",
    "print(\"RMSE of training set = \", np.sqrt(mean_squared_error(ytrain, pred_xgboost_dtrain)) )"
   ]
  },
  {
   "cell_type": "markdown",
   "metadata": {},
   "source": [
    "## stacked model"
   ]
  },
  {
   "cell_type": "code",
   "execution_count": 600,
   "metadata": {},
   "outputs": [],
   "source": [
    "stack_train = np.hstack((Xtrain,pred_xgboost_dtrain[:,np.newaxis],\n",
    "                         rf_predict_train[:,np.newaxis], et_predict_train[:,np.newaxis] ))\n",
    "\n",
    "stack_test = np.hstack((Xtest,pred_xgboost_dtest[:,np.newaxis], \n",
    "                        rf_predict_test[:,np.newaxis], et_predict_test[:,np.newaxis]))"
   ]
  },
  {
   "cell_type": "code",
   "execution_count": 601,
   "metadata": {},
   "outputs": [],
   "source": [
    "stack_list_cols = list(train.columns)\n",
    "stack_list_cols.extend(['xgb_pred', 'rf_pred', 'et_pred'])\n",
    "#stack_list_cols"
   ]
  },
  {
   "cell_type": "code",
   "execution_count": 602,
   "metadata": {},
   "outputs": [],
   "source": [
    "param = {}\n",
    "param['eta'] = 0.3\n",
    "param['gamma'] = 1\n",
    "param['verbosity'] = 1\n",
    "#param['min_child_weight'] = 5\n",
    "param['colsample_bytree'] = 0.7\n",
    "param['colsample_bylevel'] = 0.7\n",
    "param['subsample'] = 0.7\n",
    "param['lambda']= 1.6\n",
    "param['max_depth'] = 4\n",
    "num_boost_round = 200 \n",
    "### To control overfitting additional parameters are tuned above\n",
    "## With the single model parameter set, I was getting\n",
    "#RMSE of test set =  2730.239745788226\n",
    "#RMSE of training set =  746.1611894630665\n",
    "dtrain_stack = xgb.DMatrix(pd.DataFrame(stack_train,columns=stack_list_cols), label=pd.DataFrame(ytrain, columns=['Purchase']))\n",
    "bst_stack = xgb.train(param, dtrain_stack,num_boost_round)"
   ]
  },
  {
   "cell_type": "code",
   "execution_count": 603,
   "metadata": {},
   "outputs": [
    {
     "name": "stdout",
     "output_type": "stream",
     "text": [
      "RMSE of test set =  2720.517155720648\n",
      "RMSE of training set =  925.2889444993348\n"
     ]
    }
   ],
   "source": [
    "dtest_stack = xgb.DMatrix(pd.DataFrame(stack_test,columns=stack_list_cols))\n",
    "pred_xgboost_stack = bst_stack.predict(dtest_stack)\n",
    "print(\"RMSE of test set = \", np.sqrt(mean_squared_error(ytest, pred_xgboost_stack)) )\n",
    "print(\"RMSE of training set = \", np.sqrt(mean_squared_error(ytrain, bst_stack.predict(dtrain_stack))) )"
   ]
  },
  {
   "cell_type": "code",
   "execution_count": 371,
   "metadata": {},
   "outputs": [
    {
     "data": {
      "text/plain": [
       "<matplotlib.axes._subplots.AxesSubplot at 0x1a246a3be0>"
      ]
     },
     "execution_count": 371,
     "metadata": {},
     "output_type": "execute_result"
    },
    {
     "data": {
      "image/png": "[encoded data removed]",
      "text/plain": [
       "<Figure size 432x288 with 1 Axes>"
      ]
     },
     "metadata": {
      "needs_background": "light"
     },
     "output_type": "display_data"
    }
   ],
   "source": [
    "xgb.plot_importance(bst_stack, xlabel=None)"
   ]
  },
  {
   "cell_type": "markdown",
   "metadata": {},
   "source": [
    "## Predictions on the test set"
   ]
  },
  {
   "cell_type": "code",
   "execution_count": 604,
   "metadata": {},
   "outputs": [],
   "source": [
    "ctest = test.copy()\n",
    "dtest_final = xgb.DMatrix(ctest)\n",
    "pred_xgboost_final = bst.predict(dtest_final)"
   ]
  },
  {
   "cell_type": "code",
   "execution_count": 580,
   "metadata": {},
   "outputs": [],
   "source": [
    "#rf_predict_testfinal = rfmodel.predict(ctest)\n",
    "#et_predict_testfinal = etmodel.predict(ctest)"
   ]
  },
  {
   "cell_type": "code",
   "execution_count": 382,
   "metadata": {},
   "outputs": [],
   "source": [
    "#ctest['xgb_pred'] = pred_xgboost_final\n",
    "#ctest['rf_pred'] = rf_predict_testfinal\n",
    "#ctest['et_pred'] = et_predict_testfinal\n",
    "#dtest_stack_final = xgb.DMatrix(ctest)\n",
    "#pred_xgboost_stack_final = bst_stack.predict(dtest_stack_final)"
   ]
  },
  {
   "cell_type": "code",
   "execution_count": 581,
   "metadata": {},
   "outputs": [],
   "source": [
    "submission = pd.read_csv(\"./Sample_Submission_Tm9Lura.csv\") "
   ]
  },
  {
   "cell_type": "code",
   "execution_count": 605,
   "metadata": {},
   "outputs": [],
   "source": [
    "#submission['Purchase'] = pred_xgboost_stack_final\n",
    "#submission['Purchase'] = pred_xgboost_final\n",
    "#submission['Purchase'] = (pred_xgboost_final + rfmodel.predict(test) + etmodel.predict(test))/3\n",
    "submission['User_ID'] = ctest.User_ID\n",
    "submission['Product_ID'] = enc.inverse_transform(ctest['Product_ID'])"
   ]
  },
  {
   "cell_type": "code",
   "execution_count": 606,
   "metadata": {},
   "outputs": [],
   "source": [
    "submission.to_csv('solution.csv',index = False,header=True)"
   ]
  },
  {
   "cell_type": "markdown",
   "metadata": {},
   "source": [
    "# Cross validation"
   ]
  },
  {
   "cell_type": "markdown",
   "metadata": {},
   "source": [
    "### Random forest model\n",
    "\n",
    "Doing grid search with random forests was way too computationally intensive for my system (Macbook pro, 8GB RAM). So I have presented the cross validation scores below after hand-picking the hyperparameters."
   ]
  },
  {
   "cell_type": "code",
   "execution_count": 607,
   "metadata": {},
   "outputs": [
    {
     "name": "stderr",
     "output_type": "stream",
     "text": [
      "[Parallel(n_jobs=-1)]: Using backend LokyBackend with 4 concurrent workers.\n",
      "[Parallel(n_jobs=-1)]: Done  33 tasks      | elapsed:   23.8s\n",
      "[Parallel(n_jobs=-1)]: Done 154 tasks      | elapsed:  1.5min\n",
      "[Parallel(n_jobs=-1)]: Done 357 tasks      | elapsed:  3.2min\n",
      "[Parallel(n_jobs=-1)]: Done 640 tasks      | elapsed: 32.2min\n",
      "[Parallel(n_jobs=-1)]: Done 700 out of 700 | elapsed: 32.7min finished\n",
      "[Parallel(n_jobs=4)]: Using backend ThreadingBackend with 4 concurrent workers.\n",
      "[Parallel(n_jobs=4)]: Done  33 tasks      | elapsed:    0.6s\n",
      "[Parallel(n_jobs=4)]: Done 154 tasks      | elapsed:    3.1s\n",
      "[Parallel(n_jobs=4)]: Done 357 tasks      | elapsed:    7.1s\n",
      "[Parallel(n_jobs=4)]: Done 640 tasks      | elapsed:   12.3s\n",
      "[Parallel(n_jobs=4)]: Done 700 out of 700 | elapsed:   13.5s finished\n",
      "[Parallel(n_jobs=-1)]: Using backend LokyBackend with 4 concurrent workers.\n",
      "[Parallel(n_jobs=-1)]: Done  33 tasks      | elapsed:   18.7s\n",
      "[Parallel(n_jobs=-1)]: Done 154 tasks      | elapsed:  1.3min\n",
      "[Parallel(n_jobs=-1)]: Done 357 tasks      | elapsed: 18.0min\n",
      "[Parallel(n_jobs=-1)]: Done 640 tasks      | elapsed: 26.6min\n",
      "[Parallel(n_jobs=-1)]: Done 700 out of 700 | elapsed: 27.1min finished\n",
      "[Parallel(n_jobs=4)]: Using backend ThreadingBackend with 4 concurrent workers.\n",
      "[Parallel(n_jobs=4)]: Done  33 tasks      | elapsed:    0.4s\n",
      "[Parallel(n_jobs=4)]: Done 154 tasks      | elapsed:    2.5s\n",
      "[Parallel(n_jobs=4)]: Done 357 tasks      | elapsed:    6.5s\n",
      "[Parallel(n_jobs=4)]: Done 640 tasks      | elapsed:   11.5s\n",
      "[Parallel(n_jobs=4)]: Done 700 out of 700 | elapsed:   13.0s finished\n",
      "[Parallel(n_jobs=-1)]: Using backend LokyBackend with 4 concurrent workers.\n",
      "[Parallel(n_jobs=-1)]: Done  33 tasks      | elapsed:   18.6s\n",
      "[Parallel(n_jobs=-1)]: Done 154 tasks      | elapsed:  1.4min\n",
      "[Parallel(n_jobs=-1)]: Done 357 tasks      | elapsed:  3.7min\n",
      "[Parallel(n_jobs=-1)]: Done 640 tasks      | elapsed:  6.6min\n",
      "[Parallel(n_jobs=-1)]: Done 700 out of 700 | elapsed:  7.2min finished\n",
      "[Parallel(n_jobs=4)]: Using backend ThreadingBackend with 4 concurrent workers.\n",
      "[Parallel(n_jobs=4)]: Done  33 tasks      | elapsed:    0.6s\n",
      "[Parallel(n_jobs=4)]: Done 154 tasks      | elapsed:    2.7s\n",
      "[Parallel(n_jobs=4)]: Done 357 tasks      | elapsed:    7.6s\n",
      "[Parallel(n_jobs=4)]: Done 640 tasks      | elapsed:   15.3s\n",
      "[Parallel(n_jobs=4)]: Done 700 out of 700 | elapsed:   17.8s finished\n",
      "[Parallel(n_jobs=-1)]: Using backend LokyBackend with 4 concurrent workers.\n",
      "[Parallel(n_jobs=-1)]: Done  33 tasks      | elapsed:   18.8s\n",
      "[Parallel(n_jobs=-1)]: Done 154 tasks      | elapsed:  1.6min\n",
      "[Parallel(n_jobs=-1)]: Done 357 tasks      | elapsed:  3.4min\n",
      "[Parallel(n_jobs=-1)]: Done 640 tasks      | elapsed: 26.1min\n",
      "[Parallel(n_jobs=-1)]: Done 700 out of 700 | elapsed: 26.8min finished\n",
      "[Parallel(n_jobs=4)]: Using backend ThreadingBackend with 4 concurrent workers.\n",
      "[Parallel(n_jobs=4)]: Done  33 tasks      | elapsed:    0.6s\n",
      "[Parallel(n_jobs=4)]: Done 154 tasks      | elapsed:    2.8s\n",
      "[Parallel(n_jobs=4)]: Done 357 tasks      | elapsed:    7.0s\n",
      "[Parallel(n_jobs=4)]: Done 640 tasks      | elapsed:   13.5s\n",
      "[Parallel(n_jobs=4)]: Done 700 out of 700 | elapsed:   15.1s finished\n"
     ]
    },
    {
     "name": "stdout",
     "output_type": "stream",
     "text": [
      "[0.73094119 0.73119194 0.73501345 0.75120827]\n"
     ]
    }
   ],
   "source": [
    "from sklearn.model_selection import cross_val_score\n",
    "scores = cross_val_score(rfmodel, Xtrain, ytrain, cv=4)\n",
    "#print(\"Score: %0.2f (+/- %0.2f)\" % (scores./mean(), scores.std() * 2))\n",
    "print(scores)"
   ]
  },
  {
   "cell_type": "markdown",
   "metadata": {},
   "source": [
    "### Extra Trees model"
   ]
  },
  {
   "cell_type": "code",
   "execution_count": null,
   "metadata": {},
   "outputs": [],
   "source": [
    "kf = KFold(n_splits=4, random_state=123, shuffle=True)\n",
    "for train_index, validation_index in kf.split(train):    \n",
    "    train_X, validation_X = train.iloc[train_index, :], train.iloc[validation_index, :]\n",
    "    train_y, validation_y = target[train_index], target[validation_index]\n",
    "    model_cv_et = etmodel.fit(train_X, train_y)\n",
    "    model_cv_predict = etmodel.predict(validation_X)\n",
    "    print (np.sqrt(mean_squared_error(validation_y, model_cv_predict)))"
   ]
  },
  {
   "cell_type": "code",
   "execution_count": 463,
   "metadata": {},
   "outputs": [
    {
     "name": "stderr",
     "output_type": "stream",
     "text": [
      "[Parallel(n_jobs=3)]: Using backend LokyBackend with 3 concurrent workers.\n",
      "[Parallel(n_jobs=3)]: Done  44 tasks      | elapsed:   10.1s\n",
      "[Parallel(n_jobs=3)]: Done 194 tasks      | elapsed:   35.7s\n",
      "[Parallel(n_jobs=3)]: Done 444 tasks      | elapsed:  1.3min\n",
      "[Parallel(n_jobs=3)]: Done 500 out of 500 | elapsed:  1.5min finished\n",
      "[Parallel(n_jobs=3)]: Using backend ThreadingBackend with 3 concurrent workers.\n",
      "[Parallel(n_jobs=3)]: Done  44 tasks      | elapsed:    0.1s\n",
      "[Parallel(n_jobs=3)]: Done 194 tasks      | elapsed:    0.4s\n",
      "[Parallel(n_jobs=3)]: Done 444 tasks      | elapsed:    0.8s\n",
      "[Parallel(n_jobs=3)]: Done 500 out of 500 | elapsed:    0.9s finished\n",
      "[Parallel(n_jobs=3)]: Using backend LokyBackend with 3 concurrent workers.\n",
      "[Parallel(n_jobs=3)]: Done  44 tasks      | elapsed:    7.8s\n",
      "[Parallel(n_jobs=3)]: Done 194 tasks      | elapsed:   33.6s\n",
      "[Parallel(n_jobs=3)]: Done 444 tasks      | elapsed:  1.3min\n",
      "[Parallel(n_jobs=3)]: Done 500 out of 500 | elapsed:  1.4min finished\n",
      "[Parallel(n_jobs=3)]: Using backend ThreadingBackend with 3 concurrent workers.\n",
      "[Parallel(n_jobs=3)]: Done  44 tasks      | elapsed:    0.1s\n",
      "[Parallel(n_jobs=3)]: Done 194 tasks      | elapsed:    0.4s\n",
      "[Parallel(n_jobs=3)]: Done 444 tasks      | elapsed:    0.8s\n",
      "[Parallel(n_jobs=3)]: Done 500 out of 500 | elapsed:    0.9s finished\n",
      "[Parallel(n_jobs=3)]: Using backend LokyBackend with 3 concurrent workers.\n",
      "[Parallel(n_jobs=3)]: Done  44 tasks      | elapsed:    8.2s\n",
      "[Parallel(n_jobs=3)]: Done 194 tasks      | elapsed:   35.1s\n",
      "[Parallel(n_jobs=3)]: Done 444 tasks      | elapsed:  1.3min\n",
      "[Parallel(n_jobs=3)]: Done 500 out of 500 | elapsed:  1.5min finished\n",
      "[Parallel(n_jobs=3)]: Using backend ThreadingBackend with 3 concurrent workers.\n",
      "[Parallel(n_jobs=3)]: Done  44 tasks      | elapsed:    0.1s\n",
      "[Parallel(n_jobs=3)]: Done 194 tasks      | elapsed:    0.4s\n",
      "[Parallel(n_jobs=3)]: Done 444 tasks      | elapsed:    0.8s\n",
      "[Parallel(n_jobs=3)]: Done 500 out of 500 | elapsed:    1.0s finished\n",
      "[Parallel(n_jobs=3)]: Using backend LokyBackend with 3 concurrent workers.\n",
      "[Parallel(n_jobs=3)]: Done  44 tasks      | elapsed:    8.1s\n",
      "[Parallel(n_jobs=3)]: Done 194 tasks      | elapsed:   35.4s\n",
      "[Parallel(n_jobs=3)]: Done 444 tasks      | elapsed:  1.3min\n",
      "[Parallel(n_jobs=3)]: Done 500 out of 500 | elapsed:  1.5min finished\n",
      "[Parallel(n_jobs=3)]: Using backend ThreadingBackend with 3 concurrent workers.\n",
      "[Parallel(n_jobs=3)]: Done  44 tasks      | elapsed:    0.1s\n",
      "[Parallel(n_jobs=3)]: Done 194 tasks      | elapsed:    0.4s\n"
     ]
    },
    {
     "name": "stdout",
     "output_type": "stream",
     "text": [
      "[2732.69016095 2725.72612625 2721.91605048 2724.01382114]\n"
     ]
    },
    {
     "name": "stderr",
     "output_type": "stream",
     "text": [
      "[Parallel(n_jobs=3)]: Done 444 tasks      | elapsed:    0.9s\n",
      "[Parallel(n_jobs=3)]: Done 500 out of 500 | elapsed:    1.0s finished\n"
     ]
    }
   ],
   "source": [
    "from sklearn.model_selection import cross_val_score\n",
    "all_scores = cross_val_score(estimator=etmodel, X=train, y=target, cv=4, scoring='neg_mean_squared_error')  \n",
    "print(np.sqrt(np.abs(all_scores)))"
   ]
  },
  {
   "cell_type": "markdown",
   "metadata": {},
   "source": [
    "### XGBoost Grid search"
   ]
  },
  {
   "cell_type": "code",
   "execution_count": 356,
   "metadata": {},
   "outputs": [
    {
     "name": "stdout",
     "output_type": "stream",
     "text": [
      "Fitting 4 folds for each of 4 candidates, totalling 16 fits\n"
     ]
    },
    {
     "name": "stderr",
     "output_type": "stream",
     "text": [
      "[Parallel(n_jobs=4)]: Using backend LokyBackend with 4 concurrent workers.\n",
      "[Parallel(n_jobs=4)]: Done  16 out of  16 | elapsed:  8.6min finished\n"
     ]
    },
    {
     "data": {
      "text/plain": [
       "GridSearchCV(cv=4, error_score='raise-deprecating',\n",
       "       estimator=XGBRegressor(base_score=0.5, booster='gbtree', colsample_bylevel=1,\n",
       "       colsample_bytree=1, gamma=0, importance_type='gain',\n",
       "       learning_rate=0.1, max_delta_step=0, max_depth=3,\n",
       "       min_child_weight=1, missing=None, n_estimators=100, n_jobs=3,\n",
       "       nthread=None, objective='reg:linear', random_state=123, reg_alpha=0,\n",
       "       reg_lambda=1, scale_pos_weight=1, seed=None, silent=True,\n",
       "       subsample=1),\n",
       "       fit_params=None, iid='warn', n_jobs=4,\n",
       "       param_grid={'colsample_bytree': [0.8], 'colsample_bynode': [0.9, 1], 'reg_lambda': [1.6], 'max_depth': [8], 'learning_rate': [0.1, 0.3], 'subsample': [1], 'gamma': [0.05], 'min_child_weight': [1]},\n",
       "       pre_dispatch='2*n_jobs', refit=True, return_train_score='warn',\n",
       "       scoring='neg_mean_squared_error', verbose=2)"
      ]
     },
     "execution_count": 356,
     "metadata": {},
     "output_type": "execute_result"
    }
   ],
   "source": [
    "## Grid search with cross validation ##############\n",
    "\n",
    "gbm_param_grid = {\n",
    "#    'colsample_bytree': [0.6,0.8],\n",
    "    'colsample_bytree': [0.8],\n",
    "    'colsample_bynode':  [0.9,1],\n",
    "#    'reg_lambda': [1,1.2,1.4,2],\n",
    "    'reg_lambda': [1.6],\n",
    "#    'max_depth': [5,7,8],\n",
    "        'max_depth': [8],\n",
    "#    'learning_rate': [0.3, 0.5]\n",
    "    'learning_rate': [0.1,0.3],\n",
    "#    'subsample': [0.6,0.8,0.9,1]\n",
    "    'subsample': [1],\n",
    "#    'gamma':[0.1,0.3,0.5, 1,1.2,1.5]\n",
    "        'gamma':[0.05],\n",
    "#    'min_child_weight':[1,3,5]\n",
    "    'min_child_weight':[1]\n",
    "}\n",
    "\n",
    "gbm = xgb.XGBRegressor(n_estimators=100, n_jobs=3, random_state=123)\n",
    "\n",
    "# Perform grid search\n",
    "grid_xgb = GridSearchCV(param_grid=gbm_param_grid, estimator=gbm, cv=4,verbose=2, \n",
    "                        n_jobs=4, scoring='neg_mean_squared_error')\n",
    "# Fit to the data\n",
    "grid_xgb.fit(Xtrain,ytrain)"
   ]
  },
  {
   "cell_type": "code",
   "execution_count": 223,
   "metadata": {},
   "outputs": [
    {
     "name": "stderr",
     "output_type": "stream",
     "text": [
      "/Users/debashis/anaconda3/lib/python3.6/site-packages/xgboost/core.py:587: FutureWarning: Series.base is deprecated and will be removed in a future version\n",
      "  if getattr(data, 'base', None) is not None and \\\n",
      "/Users/debashis/anaconda3/lib/python3.6/site-packages/xgboost/core.py:588: FutureWarning: Series.base is deprecated and will be removed in a future version\n",
      "  data.base is not None and isinstance(data, np.ndarray) \\\n"
     ]
    }
   ],
   "source": [
    "dfull_train = xgb.DMatrix(train,label=target)"
   ]
  },
  {
   "cell_type": "code",
   "execution_count": 229,
   "metadata": {},
   "outputs": [],
   "source": [
    "param = {}\n",
    "param['eta'] = 0.1\n",
    "#param['verbosity'] = 1\n",
    "param['colsample_bytree'] = 0.6\n",
    "param['subsample'] = 0.7\n",
    "param['lambda']= 1.5\n",
    "param['max_depth'] = 5\n",
    "\n",
    "cv_xgb = xgb.cv(param, dfull_train, num_boost_round=100, metrics = 'rmse',\n",
    "           nfold=5,  early_stopping_rounds=10)\n",
    "cv_xgb['test-rmse-mean'].iloc[-1]"
   ]
  },
  {
   "cell_type": "code",
   "execution_count": 357,
   "metadata": {},
   "outputs": [
    {
     "name": "stdout",
     "output_type": "stream",
     "text": [
      "Best parameters found:  {'colsample_bynode': 0.9, 'colsample_bytree': 0.8, 'gamma': 0.05, 'learning_rate': 0.3, 'max_depth': 8, 'min_child_weight': 1, 'reg_lambda': 1.6, 'subsample': 1}\n",
      "Lowest RMSE found:  2500.9454162403126\n"
     ]
    }
   ],
   "source": [
    "# Print the best parameters and lowest RMSE\n",
    "print(\"Best parameters found: \", grid_xgb.best_params_)\n",
    "print(\"Lowest RMSE found: \", np.sqrt(np.abs(grid_xgb.best_score_)))"
   ]
  },
  {
   "cell_type": "markdown",
   "metadata": {},
   "source": [
    "## Stacked model"
   ]
  },
  {
   "cell_type": "code",
   "execution_count": 210,
   "metadata": {},
   "outputs": [],
   "source": [
    "cv_xgb_stack = xgb.cv(param, dtrain_stack, num_boost_round=100, metrics = 'rmse',\n",
    "           nfold=4,  early_stopping_rounds=10)"
   ]
  },
  {
   "cell_type": "code",
   "execution_count": 222,
   "metadata": {},
   "outputs": [
    {
     "data": {
      "text/plain": [
       "1067.5854494"
      ]
     },
     "execution_count": 222,
     "metadata": {},
     "output_type": "execute_result"
    }
   ],
   "source": [
    "cv_xgb_stack['test-rmse-mean'].iloc[-1]"
   ]
  },
  {
   "cell_type": "code",
   "execution_count": 171,
   "metadata": {},
   "outputs": [],
   "source": [
    "from sklearn.model_selection import KFold"
   ]
  },
  {
   "cell_type": "code",
   "execution_count": null,
   "metadata": {},
   "outputs": [],
   "source": [
    "kf = KFold(n_splits=5)\n",
    "param = {}\n",
    "param['eta'] = 0.05\n",
    "param['gamma'] = 2\n",
    "param['verbosity'] = 1\n",
    "#param['min_child_weight'] = 5\n",
    "param['colsample_bytree'] = 0.7\n",
    "param['colsample_bylevel'] = 0.7\n",
    "param['subsample'] = 0.7\n",
    "param['lambda']= 2\n",
    "param['max_depth'] = 4\n",
    "num_boost_round = 200 \n",
    "\n",
    "for train_index, validation_index in kf.split(stack_train):\n",
    "    \n",
    "    train_X, validation_X = stack_train[train_index, :], stack_train[validation_index, :]\n",
    "    train_y, validation_y = ytrain[train_index], ytrain[validation_index]\n",
    "    \n",
    "    xgtrain = xgb.DMatrix(train_X, label=train_y)\n",
    "    model_cv_xgboost = xgb.train(param, xgtrain, num_boost_round)\n",
    "    model_cv_predict = model_cv_xgboost.predict(xgb.DMatrix(validation_X))\n",
    "    print (np.sqrt(mean_squared_error(validation_y, model_cv_predict)))"
   ]
  },
  {
   "cell_type": "code",
   "execution_count": 486,
   "metadata": {},
   "outputs": [
    {
     "data": {
      "text/plain": [
       "12538672"
      ]
     },
     "execution_count": 486,
     "metadata": {},
     "output_type": "execute_result"
    }
   ],
   "source": [
    "full.size"
   ]
  },
  {
   "cell_type": "code",
   "execution_count": null,
   "metadata": {},
   "outputs": [],
   "source": []
  }
 ],
 "metadata": {
  "kernelspec": {
   "display_name": "Python 3",
   "language": "python",
   "name": "python3"
  },
  "language_info": {
   "codemirror_mode": {
    "name": "ipython",
    "version": 3
   },
   "file_extension": ".py",
   "mimetype": "text/x-python",
   "name": "python",
   "nbconvert_exporter": "python",
   "pygments_lexer": "ipython3",
   "version": "3.6.8"
  }
 },
 "nbformat": 4,
 "nbformat_minor": 1
}
