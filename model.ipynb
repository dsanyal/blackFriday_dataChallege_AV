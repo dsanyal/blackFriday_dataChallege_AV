{
 "cells": [
  {
   "cell_type": "code",
   "execution_count": 2,
   "metadata": {},
   "outputs": [],
   "source": [
    "import numpy as np\n",
    "import pandas as pd\n",
    "import os\n",
    "import xgboost as xgb\n",
    "from sklearn.ensemble import RandomForestRegressor\n",
    "from sklearn.ensemble import ExtraTreesRegressor\n",
    "from sklearn.metrics import mean_squared_error"
   ]
  },
  {
   "cell_type": "code",
   "execution_count": 3,
   "metadata": {},
   "outputs": [],
   "source": [
    "\n",
    "from sklearn.model_selection import GridSearchCV\n",
    "from sklearn.model_selection import train_test_split\n",
    "import seaborn as sns\n",
    "import sklearn\n",
    "import matplotlib.pyplot as plt\n",
    "%matplotlib inline\n"
   ]
  },
  {
   "cell_type": "code",
   "execution_count": 4,
   "metadata": {},
   "outputs": [],
   "source": [
    "os.environ['KMP_DUPLICATE_LIB_OK']='True'"
   ]
  },
  {
   "cell_type": "markdown",
   "metadata": {},
   "source": [
    "### Read the training and test dataset"
   ]
  },
  {
   "cell_type": "code",
   "execution_count": 5,
   "metadata": {},
   "outputs": [],
   "source": [
    "train= pd.read_csv(\"./train.csv\")\n",
    "test = pd.read_csv(\"./test.csv\")"
   ]
  },
  {
   "cell_type": "code",
   "execution_count": 6,
   "metadata": {},
   "outputs": [
    {
     "data": {
      "text/html": [
       "<div>\n",
       "<style scoped>\n",
       "    .dataframe tbody tr th:only-of-type {\n",
       "        vertical-align: middle;\n",
       "    }\n",
       "\n",
       "    .dataframe tbody tr th {\n",
       "        vertical-align: top;\n",
       "    }\n",
       "\n",
       "    .dataframe thead th {\n",
       "        text-align: right;\n",
       "    }\n",
       "</style>\n",
       "<table border=\"1\" class=\"dataframe\">\n",
       "  <thead>\n",
       "    <tr style=\"text-align: right;\">\n",
       "      <th></th>\n",
       "      <th>User_ID</th>\n",
       "      <th>Product_ID</th>\n",
       "      <th>Gender</th>\n",
       "      <th>Age</th>\n",
       "      <th>Occupation</th>\n",
       "      <th>City_Category</th>\n",
       "      <th>Stay_In_Current_City_Years</th>\n",
       "      <th>Marital_Status</th>\n",
       "      <th>Product_Category_1</th>\n",
       "      <th>Product_Category_2</th>\n",
       "      <th>Product_Category_3</th>\n",
       "      <th>Purchase</th>\n",
       "    </tr>\n",
       "  </thead>\n",
       "  <tbody>\n",
       "    <tr>\n",
       "      <th>0</th>\n",
       "      <td>1000001</td>\n",
       "      <td>P00069042</td>\n",
       "      <td>F</td>\n",
       "      <td>0-17</td>\n",
       "      <td>10</td>\n",
       "      <td>A</td>\n",
       "      <td>2</td>\n",
       "      <td>0</td>\n",
       "      <td>3</td>\n",
       "      <td>NaN</td>\n",
       "      <td>NaN</td>\n",
       "      <td>8370</td>\n",
       "    </tr>\n",
       "    <tr>\n",
       "      <th>1</th>\n",
       "      <td>1000001</td>\n",
       "      <td>P00248942</td>\n",
       "      <td>F</td>\n",
       "      <td>0-17</td>\n",
       "      <td>10</td>\n",
       "      <td>A</td>\n",
       "      <td>2</td>\n",
       "      <td>0</td>\n",
       "      <td>1</td>\n",
       "      <td>6.0</td>\n",
       "      <td>14.0</td>\n",
       "      <td>15200</td>\n",
       "    </tr>\n",
       "    <tr>\n",
       "      <th>2</th>\n",
       "      <td>1000001</td>\n",
       "      <td>P00087842</td>\n",
       "      <td>F</td>\n",
       "      <td>0-17</td>\n",
       "      <td>10</td>\n",
       "      <td>A</td>\n",
       "      <td>2</td>\n",
       "      <td>0</td>\n",
       "      <td>12</td>\n",
       "      <td>NaN</td>\n",
       "      <td>NaN</td>\n",
       "      <td>1422</td>\n",
       "    </tr>\n",
       "    <tr>\n",
       "      <th>3</th>\n",
       "      <td>1000001</td>\n",
       "      <td>P00085442</td>\n",
       "      <td>F</td>\n",
       "      <td>0-17</td>\n",
       "      <td>10</td>\n",
       "      <td>A</td>\n",
       "      <td>2</td>\n",
       "      <td>0</td>\n",
       "      <td>12</td>\n",
       "      <td>14.0</td>\n",
       "      <td>NaN</td>\n",
       "      <td>1057</td>\n",
       "    </tr>\n",
       "    <tr>\n",
       "      <th>4</th>\n",
       "      <td>1000002</td>\n",
       "      <td>P00285442</td>\n",
       "      <td>M</td>\n",
       "      <td>55+</td>\n",
       "      <td>16</td>\n",
       "      <td>C</td>\n",
       "      <td>4+</td>\n",
       "      <td>0</td>\n",
       "      <td>8</td>\n",
       "      <td>NaN</td>\n",
       "      <td>NaN</td>\n",
       "      <td>7969</td>\n",
       "    </tr>\n",
       "  </tbody>\n",
       "</table>\n",
       "</div>"
      ],
      "text/plain": [
       "   User_ID Product_ID Gender   Age  Occupation City_Category  \\\n",
       "0  1000001  P00069042      F  0-17          10             A   \n",
       "1  1000001  P00248942      F  0-17          10             A   \n",
       "2  1000001  P00087842      F  0-17          10             A   \n",
       "3  1000001  P00085442      F  0-17          10             A   \n",
       "4  1000002  P00285442      M   55+          16             C   \n",
       "\n",
       "  Stay_In_Current_City_Years  Marital_Status  Product_Category_1  \\\n",
       "0                          2               0                   3   \n",
       "1                          2               0                   1   \n",
       "2                          2               0                  12   \n",
       "3                          2               0                  12   \n",
       "4                         4+               0                   8   \n",
       "\n",
       "   Product_Category_2  Product_Category_3  Purchase  \n",
       "0                 NaN                 NaN      8370  \n",
       "1                 6.0                14.0     15200  \n",
       "2                 NaN                 NaN      1422  \n",
       "3                14.0                 NaN      1057  \n",
       "4                 NaN                 NaN      7969  "
      ]
     },
     "execution_count": 6,
     "metadata": {},
     "output_type": "execute_result"
    }
   ],
   "source": [
    "train.head()"
   ]
  },
  {
   "cell_type": "markdown",
   "metadata": {},
   "source": [
    "### Stack the training and test datasets into a single one"
   ]
  },
  {
   "cell_type": "code",
   "execution_count": 7,
   "metadata": {},
   "outputs": [],
   "source": [
    "full = pd.concat([train, test],axis=0,sort=False)"
   ]
  },
  {
   "cell_type": "markdown",
   "metadata": {},
   "source": [
    "### Which columns have non-numeric values and need encoding?"
   ]
  },
  {
   "cell_type": "code",
   "execution_count": 8,
   "metadata": {},
   "outputs": [
    {
     "data": {
      "text/html": [
       "<div>\n",
       "<style scoped>\n",
       "    .dataframe tbody tr th:only-of-type {\n",
       "        vertical-align: middle;\n",
       "    }\n",
       "\n",
       "    .dataframe tbody tr th {\n",
       "        vertical-align: top;\n",
       "    }\n",
       "\n",
       "    .dataframe thead th {\n",
       "        text-align: right;\n",
       "    }\n",
       "</style>\n",
       "<table border=\"1\" class=\"dataframe\">\n",
       "  <thead>\n",
       "    <tr style=\"text-align: right;\">\n",
       "      <th></th>\n",
       "      <th>Product_ID</th>\n",
       "      <th>Gender</th>\n",
       "      <th>Age</th>\n",
       "      <th>City_Category</th>\n",
       "      <th>Stay_In_Current_City_Years</th>\n",
       "    </tr>\n",
       "  </thead>\n",
       "  <tbody>\n",
       "    <tr>\n",
       "      <th>0</th>\n",
       "      <td>P00069042</td>\n",
       "      <td>F</td>\n",
       "      <td>0-17</td>\n",
       "      <td>A</td>\n",
       "      <td>2</td>\n",
       "    </tr>\n",
       "    <tr>\n",
       "      <th>1</th>\n",
       "      <td>P00248942</td>\n",
       "      <td>F</td>\n",
       "      <td>0-17</td>\n",
       "      <td>A</td>\n",
       "      <td>2</td>\n",
       "    </tr>\n",
       "    <tr>\n",
       "      <th>2</th>\n",
       "      <td>P00087842</td>\n",
       "      <td>F</td>\n",
       "      <td>0-17</td>\n",
       "      <td>A</td>\n",
       "      <td>2</td>\n",
       "    </tr>\n",
       "    <tr>\n",
       "      <th>3</th>\n",
       "      <td>P00085442</td>\n",
       "      <td>F</td>\n",
       "      <td>0-17</td>\n",
       "      <td>A</td>\n",
       "      <td>2</td>\n",
       "    </tr>\n",
       "    <tr>\n",
       "      <th>4</th>\n",
       "      <td>P00285442</td>\n",
       "      <td>M</td>\n",
       "      <td>55+</td>\n",
       "      <td>C</td>\n",
       "      <td>4+</td>\n",
       "    </tr>\n",
       "  </tbody>\n",
       "</table>\n",
       "</div>"
      ],
      "text/plain": [
       "  Product_ID Gender   Age City_Category Stay_In_Current_City_Years\n",
       "0  P00069042      F  0-17             A                          2\n",
       "1  P00248942      F  0-17             A                          2\n",
       "2  P00087842      F  0-17             A                          2\n",
       "3  P00085442      F  0-17             A                          2\n",
       "4  P00285442      M   55+             C                         4+"
      ]
     },
     "execution_count": 8,
     "metadata": {},
     "output_type": "execute_result"
    }
   ],
   "source": [
    "train.select_dtypes(exclude=[np.number]).head()"
   ]
  },
  {
   "cell_type": "code",
   "execution_count": 9,
   "metadata": {},
   "outputs": [],
   "source": [
    "train_shape = train.shape\n",
    "test_shape = test.shape"
   ]
  },
  {
   "cell_type": "code",
   "execution_count": 10,
   "metadata": {},
   "outputs": [],
   "source": [
    "del train\n",
    "del test"
   ]
  },
  {
   "cell_type": "markdown",
   "metadata": {},
   "source": [
    "### Transform the Age column by mapping it to the mean of the range"
   ]
  },
  {
   "cell_type": "code",
   "execution_count": 11,
   "metadata": {},
   "outputs": [
    {
     "name": "stdout",
     "output_type": "stream",
     "text": [
      "26-35    313015\n",
      "36-45    156724\n",
      "18-25    141953\n",
      "46-50     65278\n",
      "51-55     54784\n",
      "55+       30579\n",
      "0-17      21334\n",
      "Name: Age, dtype: int64\n"
     ]
    }
   ],
   "source": [
    "print(full.Age.value_counts())\n",
    "age_transform = {'26-35':(26+35)/2, '36-45':(36+45)/2, '18-25':(18+25)/2, '46-50':(46+50)/2, '51-55':(51+55)/2, '0-17':17/2, '55+':60}\n",
    "full['Age'] = full['Age'].apply(lambda x: age_transform[x])"
   ]
  },
  {
   "cell_type": "code",
   "execution_count": 12,
   "metadata": {},
   "outputs": [],
   "source": [
    "#train['Product_ID'] = train['Product_ID'].apply(lambda x: x[1:]).apply(int)"
   ]
  },
  {
   "cell_type": "code",
   "execution_count": 13,
   "metadata": {},
   "outputs": [
    {
     "data": {
      "text/html": [
       "<div>\n",
       "<style scoped>\n",
       "    .dataframe tbody tr th:only-of-type {\n",
       "        vertical-align: middle;\n",
       "    }\n",
       "\n",
       "    .dataframe tbody tr th {\n",
       "        vertical-align: top;\n",
       "    }\n",
       "\n",
       "    .dataframe thead th {\n",
       "        text-align: right;\n",
       "    }\n",
       "</style>\n",
       "<table border=\"1\" class=\"dataframe\">\n",
       "  <thead>\n",
       "    <tr style=\"text-align: right;\">\n",
       "      <th></th>\n",
       "      <th>Product_ID</th>\n",
       "      <th>Gender</th>\n",
       "      <th>City_Category</th>\n",
       "      <th>Stay_In_Current_City_Years</th>\n",
       "    </tr>\n",
       "  </thead>\n",
       "  <tbody>\n",
       "    <tr>\n",
       "      <th>0</th>\n",
       "      <td>P00069042</td>\n",
       "      <td>F</td>\n",
       "      <td>A</td>\n",
       "      <td>2</td>\n",
       "    </tr>\n",
       "    <tr>\n",
       "      <th>1</th>\n",
       "      <td>P00248942</td>\n",
       "      <td>F</td>\n",
       "      <td>A</td>\n",
       "      <td>2</td>\n",
       "    </tr>\n",
       "    <tr>\n",
       "      <th>2</th>\n",
       "      <td>P00087842</td>\n",
       "      <td>F</td>\n",
       "      <td>A</td>\n",
       "      <td>2</td>\n",
       "    </tr>\n",
       "    <tr>\n",
       "      <th>3</th>\n",
       "      <td>P00085442</td>\n",
       "      <td>F</td>\n",
       "      <td>A</td>\n",
       "      <td>2</td>\n",
       "    </tr>\n",
       "    <tr>\n",
       "      <th>4</th>\n",
       "      <td>P00285442</td>\n",
       "      <td>M</td>\n",
       "      <td>C</td>\n",
       "      <td>4+</td>\n",
       "    </tr>\n",
       "  </tbody>\n",
       "</table>\n",
       "</div>"
      ],
      "text/plain": [
       "  Product_ID Gender City_Category Stay_In_Current_City_Years\n",
       "0  P00069042      F             A                          2\n",
       "1  P00248942      F             A                          2\n",
       "2  P00087842      F             A                          2\n",
       "3  P00085442      F             A                          2\n",
       "4  P00285442      M             C                         4+"
      ]
     },
     "execution_count": 13,
     "metadata": {},
     "output_type": "execute_result"
    }
   ],
   "source": [
    "full.select_dtypes(exclude=[np.number]).head()"
   ]
  },
  {
   "cell_type": "code",
   "execution_count": 14,
   "metadata": {},
   "outputs": [
    {
     "data": {
      "text/plain": [
       "1     276425\n",
       "2     145427\n",
       "3     135428\n",
       "4+    120671\n",
       "0     105716\n",
       "Name: Stay_In_Current_City_Years, dtype: int64"
      ]
     },
     "execution_count": 14,
     "metadata": {},
     "output_type": "execute_result"
    }
   ],
   "source": [
    "full.Stay_In_Current_City_Years.value_counts()"
   ]
  },
  {
   "cell_type": "code",
   "execution_count": 15,
   "metadata": {},
   "outputs": [],
   "source": [
    "full.loc[full.Stay_In_Current_City_Years == '4+', 'Stay_In_Current_City_Years'] = '4'\n",
    "full['Stay_In_Current_City_Years'] = full['Stay_In_Current_City_Years'].astype('int')"
   ]
  },
  {
   "cell_type": "markdown",
   "metadata": {},
   "source": [
    "### One-hot encode the `Gender` and `City_Category` features"
   ]
  },
  {
   "cell_type": "code",
   "execution_count": 16,
   "metadata": {},
   "outputs": [],
   "source": [
    "df_dummy_gender = pd.get_dummies(full['Gender'],prefix = 'Gender')\n",
    "df_dummy_city_cat = pd.get_dummies(full['City_Category'],prefix = 'City_Category')"
   ]
  },
  {
   "cell_type": "code",
   "execution_count": 17,
   "metadata": {},
   "outputs": [],
   "source": [
    "full = pd.concat([full, df_dummy_gender,df_dummy_city_cat], axis=1)"
   ]
  },
  {
   "cell_type": "code",
   "execution_count": 18,
   "metadata": {},
   "outputs": [
    {
     "data": {
      "text/plain": [
       "<matplotlib.axes._subplots.AxesSubplot at 0x1a197078d0>"
      ]
     },
     "execution_count": 18,
     "metadata": {},
     "output_type": "execute_result"
    },
    {
     "data": {
      "image/png": "[encoded data removed]",
      "text/plain": [
       "<Figure size 432x288 with 1 Axes>"
      ]
     },
     "metadata": {
      "needs_background": "light"
     },
     "output_type": "display_data"
    }
   ],
   "source": [
    "full.groupby('Product_ID').mean().reset_index()[['Product_ID','Purchase']].plot()"
   ]
  },
  {
   "cell_type": "markdown",
   "metadata": {},
   "source": [
    "## Feature engineering"
   ]
  },
  {
   "cell_type": "code",
   "execution_count": 19,
   "metadata": {},
   "outputs": [],
   "source": [
    "## Encode the Product ID's using standard Encoder\n",
    "enc = sklearn.preprocessing.LabelEncoder()\n",
    "full['Product_ID'] = enc.fit_transform(full['Product_ID'])  "
   ]
  },
  {
   "cell_type": "markdown",
   "metadata": {},
   "source": [
    "#### Create a new feature based on the average purchase price per product.  This turns out to be an important feature.\n",
    "Some Product ID's in the training set are new. For these rows, the average purchase price of all the products will be used."
   ]
  },
  {
   "cell_type": "code",
   "execution_count": 20,
   "metadata": {},
   "outputs": [
    {
     "data": {
      "text/html": [
       "<div>\n",
       "<style scoped>\n",
       "    .dataframe tbody tr th:only-of-type {\n",
       "        vertical-align: middle;\n",
       "    }\n",
       "\n",
       "    .dataframe tbody tr th {\n",
       "        vertical-align: top;\n",
       "    }\n",
       "\n",
       "    .dataframe thead th {\n",
       "        text-align: right;\n",
       "    }\n",
       "</style>\n",
       "<table border=\"1\" class=\"dataframe\">\n",
       "  <thead>\n",
       "    <tr style=\"text-align: right;\">\n",
       "      <th></th>\n",
       "      <th>User_ID</th>\n",
       "      <th>Product_ID</th>\n",
       "      <th>Gender</th>\n",
       "      <th>Age</th>\n",
       "      <th>Occupation</th>\n",
       "      <th>City_Category</th>\n",
       "      <th>Stay_In_Current_City_Years</th>\n",
       "      <th>Marital_Status</th>\n",
       "      <th>Product_Category_1</th>\n",
       "      <th>Product_Category_2</th>\n",
       "      <th>Product_Category_3</th>\n",
       "      <th>Purchase</th>\n",
       "      <th>Gender_F</th>\n",
       "      <th>Gender_M</th>\n",
       "      <th>City_Category_A</th>\n",
       "      <th>City_Category_B</th>\n",
       "      <th>City_Category_C</th>\n",
       "      <th>avg_product_price</th>\n",
       "    </tr>\n",
       "  </thead>\n",
       "  <tbody>\n",
       "    <tr>\n",
       "      <th>0</th>\n",
       "      <td>1000001</td>\n",
       "      <td>684</td>\n",
       "      <td>F</td>\n",
       "      <td>8.5</td>\n",
       "      <td>10</td>\n",
       "      <td>A</td>\n",
       "      <td>2</td>\n",
       "      <td>0</td>\n",
       "      <td>3</td>\n",
       "      <td>NaN</td>\n",
       "      <td>NaN</td>\n",
       "      <td>8370.0</td>\n",
       "      <td>1</td>\n",
       "      <td>0</td>\n",
       "      <td>1</td>\n",
       "      <td>0</td>\n",
       "      <td>0</td>\n",
       "      <td>11870.863436</td>\n",
       "    </tr>\n",
       "    <tr>\n",
       "      <th>1</th>\n",
       "      <td>1000001</td>\n",
       "      <td>2406</td>\n",
       "      <td>F</td>\n",
       "      <td>8.5</td>\n",
       "      <td>10</td>\n",
       "      <td>A</td>\n",
       "      <td>2</td>\n",
       "      <td>0</td>\n",
       "      <td>1</td>\n",
       "      <td>6.0</td>\n",
       "      <td>14.0</td>\n",
       "      <td>15200.0</td>\n",
       "      <td>1</td>\n",
       "      <td>0</td>\n",
       "      <td>1</td>\n",
       "      <td>0</td>\n",
       "      <td>0</td>\n",
       "      <td>16304.030981</td>\n",
       "    </tr>\n",
       "    <tr>\n",
       "      <th>2</th>\n",
       "      <td>1000001</td>\n",
       "      <td>868</td>\n",
       "      <td>F</td>\n",
       "      <td>8.5</td>\n",
       "      <td>10</td>\n",
       "      <td>A</td>\n",
       "      <td>2</td>\n",
       "      <td>0</td>\n",
       "      <td>12</td>\n",
       "      <td>NaN</td>\n",
       "      <td>NaN</td>\n",
       "      <td>1422.0</td>\n",
       "      <td>1</td>\n",
       "      <td>0</td>\n",
       "      <td>1</td>\n",
       "      <td>0</td>\n",
       "      <td>0</td>\n",
       "      <td>1237.892157</td>\n",
       "    </tr>\n",
       "    <tr>\n",
       "      <th>3</th>\n",
       "      <td>1000001</td>\n",
       "      <td>844</td>\n",
       "      <td>F</td>\n",
       "      <td>8.5</td>\n",
       "      <td>10</td>\n",
       "      <td>A</td>\n",
       "      <td>2</td>\n",
       "      <td>0</td>\n",
       "      <td>12</td>\n",
       "      <td>14.0</td>\n",
       "      <td>NaN</td>\n",
       "      <td>1057.0</td>\n",
       "      <td>1</td>\n",
       "      <td>0</td>\n",
       "      <td>1</td>\n",
       "      <td>0</td>\n",
       "      <td>0</td>\n",
       "      <td>1455.140762</td>\n",
       "    </tr>\n",
       "    <tr>\n",
       "      <th>4</th>\n",
       "      <td>1000002</td>\n",
       "      <td>2769</td>\n",
       "      <td>M</td>\n",
       "      <td>60.0</td>\n",
       "      <td>16</td>\n",
       "      <td>C</td>\n",
       "      <td>4</td>\n",
       "      <td>0</td>\n",
       "      <td>8</td>\n",
       "      <td>NaN</td>\n",
       "      <td>NaN</td>\n",
       "      <td>7969.0</td>\n",
       "      <td>0</td>\n",
       "      <td>1</td>\n",
       "      <td>0</td>\n",
       "      <td>0</td>\n",
       "      <td>1</td>\n",
       "      <td>7692.763547</td>\n",
       "    </tr>\n",
       "  </tbody>\n",
       "</table>\n",
       "</div>"
      ],
      "text/plain": [
       "   User_ID  Product_ID Gender   Age  Occupation City_Category  \\\n",
       "0  1000001         684      F   8.5          10             A   \n",
       "1  1000001        2406      F   8.5          10             A   \n",
       "2  1000001         868      F   8.5          10             A   \n",
       "3  1000001         844      F   8.5          10             A   \n",
       "4  1000002        2769      M  60.0          16             C   \n",
       "\n",
       "   Stay_In_Current_City_Years  Marital_Status  Product_Category_1  \\\n",
       "0                           2               0                   3   \n",
       "1                           2               0                   1   \n",
       "2                           2               0                  12   \n",
       "3                           2               0                  12   \n",
       "4                           4               0                   8   \n",
       "\n",
       "   Product_Category_2  Product_Category_3  Purchase  Gender_F  Gender_M  \\\n",
       "0                 NaN                 NaN    8370.0         1         0   \n",
       "1                 6.0                14.0   15200.0         1         0   \n",
       "2                 NaN                 NaN    1422.0         1         0   \n",
       "3                14.0                 NaN    1057.0         1         0   \n",
       "4                 NaN                 NaN    7969.0         0         1   \n",
       "\n",
       "   City_Category_A  City_Category_B  City_Category_C  avg_product_price  \n",
       "0                1                0                0       11870.863436  \n",
       "1                1                0                0       16304.030981  \n",
       "2                1                0                0        1237.892157  \n",
       "3                1                0                0        1455.140762  \n",
       "4                0                0                1        7692.763547  "
      ]
     },
     "execution_count": 20,
     "metadata": {},
     "output_type": "execute_result"
    }
   ],
   "source": [
    "dict_avg_purchase = {}\n",
    "avg_purchase_price = full['Purchase'].mean()\n",
    "for index,row in full.groupby('Product_ID').mean().reset_index()[['Product_ID','Purchase']].iterrows():\n",
    "    dict_avg_purchase[row['Product_ID']] = row['Purchase']\n",
    "full['avg_product_price'] = full['Product_ID'].apply(lambda x: dict_avg_purchase[x] if x in dict_avg_purchase.keys() else avg_purchase_price)\n",
    "full.head()"
   ]
  },
  {
   "cell_type": "markdown",
   "metadata": {},
   "source": [
    "### Which columns have `NA` values?"
   ]
  },
  {
   "cell_type": "code",
   "execution_count": 21,
   "metadata": {},
   "outputs": [
    {
     "data": {
      "text/plain": [
       "User_ID                            0\n",
       "Product_ID                         0\n",
       "Gender                             0\n",
       "Age                                0\n",
       "Occupation                         0\n",
       "City_Category                      0\n",
       "Stay_In_Current_City_Years         0\n",
       "Marital_Status                     0\n",
       "Product_Category_1                 0\n",
       "Product_Category_2            245982\n",
       "Product_Category_3            545809\n",
       "Purchase                      233599\n",
       "Gender_F                           0\n",
       "Gender_M                           0\n",
       "City_Category_A                    0\n",
       "City_Category_B                    0\n",
       "City_Category_C                    0\n",
       "avg_product_price                 61\n",
       "dtype: int64"
      ]
     },
     "execution_count": 21,
     "metadata": {},
     "output_type": "execute_result"
    }
   ],
   "source": [
    "full.isna().sum()"
   ]
  },
  {
   "cell_type": "code",
   "execution_count": 22,
   "metadata": {},
   "outputs": [],
   "source": [
    "#full['Purchase'].mean() == full['Purchase'].iloc[:train_shape[0]].mean()"
   ]
  },
  {
   "cell_type": "markdown",
   "metadata": {},
   "source": [
    " Fill the missing `avg_product_price` values with the mean purchase price of that product"
   ]
  },
  {
   "cell_type": "code",
   "execution_count": 23,
   "metadata": {},
   "outputs": [],
   "source": [
    "full['avg_product_price'].fillna(avg_purchase_price, inplace = True)"
   ]
  },
  {
   "cell_type": "markdown",
   "metadata": {},
   "source": [
    "Drop the Gender and City category columns since they have already been encoded"
   ]
  },
  {
   "cell_type": "code",
   "execution_count": 24,
   "metadata": {},
   "outputs": [],
   "source": [
    "full = full.drop(['Gender','City_Category'], axis=1)"
   ]
  },
  {
   "cell_type": "markdown",
   "metadata": {},
   "source": [
    "#### Create new features bases on the counts of User IDs ,Product IDs, Age, Occupation and Product_Category_1"
   ]
  },
  {
   "cell_type": "code",
   "execution_count": 25,
   "metadata": {},
   "outputs": [],
   "source": [
    "def get_counts(df, parameter,newcolname=None):\n",
    "    newdict = {}\n",
    "    if not newcolname:\n",
    "        newcolname = \"count_\"+parameter\n",
    "    grouping = df.groupby(parameter)\n",
    "    for key, val in grouping:\n",
    "        newdict[key] = val.size\n",
    "    df[newcolname] = df[parameter].apply(lambda x: newdict[x])/df.size ##normalized counts\n",
    "    return df"
   ]
  },
  {
   "cell_type": "code",
   "execution_count": 26,
   "metadata": {},
   "outputs": [],
   "source": [
    "count_features = ['User_ID', 'Product_ID', 'Age', 'Occupation','Product_Category_1']\n",
    "for feature in count_features:\n",
    "    full = get_counts(full, feature)"
   ]
  },
  {
   "cell_type": "code",
   "execution_count": 27,
   "metadata": {},
   "outputs": [],
   "source": [
    "#plt.style.use('fivethirtyeight')\n",
    "#plt.figure(figsize = (10,8))\n",
    "#sns.heatmap( train.corr())\n",
    "#full.corr()"
   ]
  },
  {
   "cell_type": "code",
   "execution_count": 28,
   "metadata": {},
   "outputs": [],
   "source": [
    "#df_user= train.groupby('User_ID')['Product_ID'].count().reset_index()\n",
    "#df_user.columns = ['User_ID', 'num_purchases']\n",
    "#train = pd.merge(train, df_user , on = 'User_ID')\n"
   ]
  },
  {
   "cell_type": "markdown",
   "metadata": {},
   "source": [
    "Replace NA values in `Product_Category_2` and `Product_Category_3`"
   ]
  },
  {
   "cell_type": "code",
   "execution_count": 29,
   "metadata": {},
   "outputs": [],
   "source": [
    "full['Product_Category_2'].fillna(-999,inplace = True)"
   ]
  },
  {
   "cell_type": "code",
   "execution_count": 30,
   "metadata": {},
   "outputs": [],
   "source": [
    "full['Product_Category_3'].fillna(-999,inplace = True)"
   ]
  },
  {
   "cell_type": "markdown",
   "metadata": {},
   "source": [
    "Divide dataset into train and test as in the original data. Pre-processing is complete at this stage."
   ]
  },
  {
   "cell_type": "code",
   "execution_count": 31,
   "metadata": {},
   "outputs": [
    {
     "name": "stdout",
     "output_type": "stream",
     "text": [
      "(550068, 21)\n",
      "(233599, 21)\n"
     ]
    }
   ],
   "source": [
    "train = full.iloc[:train_shape[0],:]\n",
    "test = full.iloc[train_shape[0]:,:]\n",
    "print(train.shape)\n",
    "print(test.shape)\n",
    "#train.drop(['Purchase'], axis =1, inplace = True)"
   ]
  },
  {
   "cell_type": "code",
   "execution_count": 32,
   "metadata": {},
   "outputs": [],
   "source": [
    "target = train['Purchase']"
   ]
  },
  {
   "cell_type": "code",
   "execution_count": 33,
   "metadata": {},
   "outputs": [
    {
     "name": "stderr",
     "output_type": "stream",
     "text": [
      "/Users/debashis/anaconda3/lib/python3.6/site-packages/pandas/core/frame.py:3940: SettingWithCopyWarning: \n",
      "A value is trying to be set on a copy of a slice from a DataFrame\n",
      "\n",
      "See the caveats in the documentation: http://pandas.pydata.org/pandas-docs/stable/indexing.html#indexing-view-versus-copy\n",
      "  errors=errors)\n"
     ]
    }
   ],
   "source": [
    "train.drop(['Purchase'], axis =1, inplace = True)"
   ]
  },
  {
   "cell_type": "code",
   "execution_count": 34,
   "metadata": {},
   "outputs": [],
   "source": [
    "test.drop(['Purchase'], axis =1, inplace = True)"
   ]
  },
  {
   "cell_type": "markdown",
   "metadata": {},
   "source": [
    "### Generate train and test splits by masking"
   ]
  },
  {
   "cell_type": "code",
   "execution_count": 35,
   "metadata": {},
   "outputs": [],
   "source": [
    "X=train.values\n",
    "y=target.values\n",
    "itrain, itest = train_test_split(range(train.shape[0]), test_size=0.3,random_state = 42)\n",
    "mask=np.ones(train.shape[0], dtype='int')\n",
    "mask[itrain]=1\n",
    "mask[itest]=0\n",
    "mask = (mask==1)\n",
    "Xtrain, Xtest, ytrain, ytest = X[mask], X[~mask], y[mask], y[~mask]"
   ]
  },
  {
   "cell_type": "code",
   "execution_count": 36,
   "metadata": {},
   "outputs": [],
   "source": [
    "def grid_search(clf, parameters, X, y, n_jobs=1, n_folds=3, score_func=None):\n",
    "    if score_func:\n",
    "        gs = GridSearchCV(clf, param_grid=parameters, cv=n_folds, n_jobs=n_jobs, scoring=score_func,verbose =2)\n",
    "    else:\n",
    "        print('Doing grid search')\n",
    "        gs = GridSearchCV(clf, param_grid=parameters, n_jobs=n_jobs, cv=n_folds, verbose =2)\n",
    "    gs.fit(X, y)\n",
    "    print (\"BEST\", gs.best_params_, gs.best_score_)\n",
    "    best = gs.best_estimator_\n",
    "    return best\n",
    "\n",
    "\n",
    "def do_regression(model,  Xtrain, ytrain, Xtest, ytest, parameters, n_folds=3, n_jobs=1):\n",
    "    if parameters:\n",
    "        model = grid_search(model, parameters, Xtrain, ytrain, n_jobs=n_jobs, n_folds=n_folds)\n",
    "    model=model.fit(Xtrain, ytrain)\n",
    "    training_score = model.score(Xtrain, ytrain)\n",
    "    test_score = model.score(Xtest, ytest)\n",
    "    print (\"############# based on standard predict ################\")\n",
    "    print (\"coefficient of determination R^2 on training data: %0.2f\" % (training_score))\n",
    "    print (\"coefficient of determination R^2 on test data:     %0.2f\" % (test_score))\n",
    "    print (\"########################################################\")\n",
    "    return model, Xtrain, ytrain, Xtest, ytest\n",
    "\n"
   ]
  },
  {
   "cell_type": "markdown",
   "metadata": {},
   "source": [
    "## ML models\n",
    "First we will try Random Forests regressor model. All cross-validation studies can be found towards the end of this notebook."
   ]
  },
  {
   "cell_type": "code",
   "execution_count": 52,
   "metadata": {},
   "outputs": [
    {
     "name": "stderr",
     "output_type": "stream",
     "text": [
      "[Parallel(n_jobs=-1)]: Using backend ThreadingBackend with 4 concurrent workers.\n",
      "[Parallel(n_jobs=-1)]: Done  42 tasks      | elapsed:   35.7s\n",
      "[Parallel(n_jobs=-1)]: Done 192 tasks      | elapsed:  2.3min\n",
      "[Parallel(n_jobs=-1)]: Done 442 tasks      | elapsed:  5.3min\n",
      "[Parallel(n_jobs=-1)]: Done 700 out of 700 | elapsed:  8.7min finished\n",
      "[Parallel(n_jobs=4)]: Using backend ThreadingBackend with 4 concurrent workers.\n",
      "[Parallel(n_jobs=4)]: Done  42 tasks      | elapsed:    3.1s\n",
      "[Parallel(n_jobs=4)]: Done 192 tasks      | elapsed:   13.3s\n",
      "[Parallel(n_jobs=4)]: Done 442 tasks      | elapsed:   28.8s\n",
      "[Parallel(n_jobs=4)]: Done 700 out of 700 | elapsed:   47.0s finished\n",
      "[Parallel(n_jobs=4)]: Using backend ThreadingBackend with 4 concurrent workers.\n",
      "[Parallel(n_jobs=4)]: Done  42 tasks      | elapsed:    1.5s\n",
      "[Parallel(n_jobs=4)]: Done 192 tasks      | elapsed:    7.3s\n",
      "[Parallel(n_jobs=4)]: Done 442 tasks      | elapsed:   15.8s\n"
     ]
    },
    {
     "name": "stdout",
     "output_type": "stream",
     "text": [
      "############# based on standard predict ################\n",
      "coefficient of determination R^2 on training data: 0.88\n",
      "coefficient of determination R^2 on test data:     0.74\n",
      "########################################################\n"
     ]
    },
    {
     "name": "stderr",
     "output_type": "stream",
     "text": [
      "[Parallel(n_jobs=4)]: Done 700 out of 700 | elapsed:   23.6s finished\n"
     ]
    }
   ],
   "source": [
    "\n",
    "rfmodel = RandomForestRegressor(n_estimators = 700, max_features = 10, max_depth=None, \n",
    "                                n_jobs= -1, min_samples_split=10, min_samples_leaf = 3, \n",
    "                                random_state=123, verbose =1)\n",
    "parameters = {'n_estimators': [300,500,700], 'max_features': range(5,8)}\n",
    "rfmodel, Xtrain, ytrain, Xtest, ytest = do_regression(rfmodel, Xtrain, ytrain, \n",
    "                                                      Xtest, ytest, parameters = None, n_folds =3,\n",
    "                                                     n_jobs = -1) "
   ]
  },
  {
   "cell_type": "code",
   "execution_count": 53,
   "metadata": {},
   "outputs": [
    {
     "name": "stderr",
     "output_type": "stream",
     "text": [
      "[Parallel(n_jobs=4)]: Using backend ThreadingBackend with 4 concurrent workers.\n",
      "[Parallel(n_jobs=4)]: Done  42 tasks      | elapsed:    3.1s\n",
      "[Parallel(n_jobs=4)]: Done 192 tasks      | elapsed:   14.7s\n",
      "[Parallel(n_jobs=4)]: Done 442 tasks      | elapsed:   36.9s\n"
     ]
    },
    {
     "name": "stdout",
     "output_type": "stream",
     "text": [
      "RMSE =  1758.7395555571923\n"
     ]
    },
    {
     "name": "stderr",
     "output_type": "stream",
     "text": [
      "[Parallel(n_jobs=4)]: Done 700 out of 700 | elapsed:   57.4s finished\n"
     ]
    }
   ],
   "source": [
    "rf_predict_train = rfmodel.predict(Xtrain)\n",
    "print(\"RMSE = \", np.sqrt(mean_squared_error(ytrain, rf_predict_train)) )"
   ]
  },
  {
   "cell_type": "code",
   "execution_count": 54,
   "metadata": {
    "scrolled": true
   },
   "outputs": [
    {
     "name": "stderr",
     "output_type": "stream",
     "text": [
      "[Parallel(n_jobs=4)]: Using backend ThreadingBackend with 4 concurrent workers.\n",
      "[Parallel(n_jobs=4)]: Done  42 tasks      | elapsed:    1.7s\n",
      "[Parallel(n_jobs=4)]: Done 192 tasks      | elapsed:    7.1s\n",
      "[Parallel(n_jobs=4)]: Done 442 tasks      | elapsed:   16.2s\n"
     ]
    },
    {
     "name": "stdout",
     "output_type": "stream",
     "text": [
      "RMSE =  2565.4171970100156\n"
     ]
    },
    {
     "name": "stderr",
     "output_type": "stream",
     "text": [
      "[Parallel(n_jobs=4)]: Done 700 out of 700 | elapsed:   24.6s finished\n"
     ]
    }
   ],
   "source": [
    "rf_predict_test = rfmodel.predict(Xtest)\n",
    "print(\"RMSE = \", np.sqrt(mean_squared_error(ytest, rf_predict_test)) )"
   ]
  },
  {
   "cell_type": "code",
   "execution_count": 55,
   "metadata": {},
   "outputs": [
    {
     "data": {
      "image/png": "[encoded data removed]",
      "text/plain": [
       "<Figure size 432x288 with 1 Axes>"
      ]
     },
     "metadata": {
      "needs_background": "light"
     },
     "output_type": "display_data"
    }
   ],
   "source": [
    "importance_list = rfmodel.feature_importances_\n",
    "name_list = train.columns\n",
    "importance_list, name_list = zip(*sorted(zip(importance_list, name_list)))\n",
    "plt.barh(range(len(name_list)),importance_list,align='center')\n",
    "plt.yticks(range(len(name_list)),name_list)\n",
    "plt.xlabel('Relative Importance in the Random Forest')\n",
    "plt.ylabel('Features')\n",
    "plt.title('Relative importance of Each Feature')\n",
    "plt.show()"
   ]
  },
  {
   "cell_type": "markdown",
   "metadata": {},
   "source": [
    "### Extremely Randomized trees"
   ]
  },
  {
   "cell_type": "code",
   "execution_count": 40,
   "metadata": {},
   "outputs": [
    {
     "name": "stderr",
     "output_type": "stream",
     "text": [
      "[Parallel(n_jobs=4)]: Using backend ThreadingBackend with 4 concurrent workers.\n",
      "[Parallel(n_jobs=4)]: Done  42 tasks      | elapsed:   36.3s\n",
      "[Parallel(n_jobs=4)]: Done 192 tasks      | elapsed:  3.4min\n",
      "[Parallel(n_jobs=4)]: Done 442 tasks      | elapsed:  8.1min\n",
      "[Parallel(n_jobs=4)]: Done 500 out of 500 | elapsed:  9.1min finished\n"
     ]
    },
    {
     "data": {
      "text/plain": [
       "ExtraTreesRegressor(bootstrap=False, criterion='mse', max_depth=10,\n",
       "          max_features='auto', max_leaf_nodes=None,\n",
       "          min_impurity_decrease=0.0, min_impurity_split=None,\n",
       "          min_samples_leaf=2, min_samples_split=6,\n",
       "          min_weight_fraction_leaf=0.0, n_estimators=500, n_jobs=4,\n",
       "          oob_score=False, random_state=123, verbose=1, warm_start=False)"
      ]
     },
     "execution_count": 40,
     "metadata": {},
     "output_type": "execute_result"
    }
   ],
   "source": [
    "etmodel = ExtraTreesRegressor(n_estimators=500, max_features='auto',max_depth=10,\n",
    "                             min_samples_split=6, \n",
    "                              min_samples_leaf=2,\n",
    "                             verbose=1, n_jobs=4,random_state=123)\n",
    "etmodel.fit(Xtrain, ytrain)"
   ]
  },
  {
   "cell_type": "code",
   "execution_count": 41,
   "metadata": {},
   "outputs": [
    {
     "name": "stderr",
     "output_type": "stream",
     "text": [
      "[Parallel(n_jobs=4)]: Using backend ThreadingBackend with 4 concurrent workers.\n",
      "[Parallel(n_jobs=4)]: Done  42 tasks      | elapsed:    0.4s\n",
      "[Parallel(n_jobs=4)]: Done 192 tasks      | elapsed:    1.4s\n",
      "[Parallel(n_jobs=4)]: Done 442 tasks      | elapsed:    2.9s\n"
     ]
    },
    {
     "name": "stdout",
     "output_type": "stream",
     "text": [
      "RMSE =  2648.064502098684\n"
     ]
    },
    {
     "name": "stderr",
     "output_type": "stream",
     "text": [
      "[Parallel(n_jobs=4)]: Done 500 out of 500 | elapsed:    3.3s finished\n"
     ]
    }
   ],
   "source": [
    "et_predict_test = etmodel.predict(Xtest)\n",
    "print(\"RMSE = \", np.sqrt(mean_squared_error(ytest, et_predict_test)) )"
   ]
  },
  {
   "cell_type": "code",
   "execution_count": 42,
   "metadata": {},
   "outputs": [
    {
     "name": "stderr",
     "output_type": "stream",
     "text": [
      "[Parallel(n_jobs=4)]: Using backend ThreadingBackend with 4 concurrent workers.\n",
      "[Parallel(n_jobs=4)]: Done  42 tasks      | elapsed:    0.6s\n",
      "[Parallel(n_jobs=4)]: Done 192 tasks      | elapsed:    3.0s\n",
      "[Parallel(n_jobs=4)]: Done 442 tasks      | elapsed:    6.8s\n"
     ]
    },
    {
     "name": "stdout",
     "output_type": "stream",
     "text": [
      "RMSE on training set =  2606.9755643375197\n"
     ]
    },
    {
     "name": "stderr",
     "output_type": "stream",
     "text": [
      "[Parallel(n_jobs=4)]: Done 500 out of 500 | elapsed:    7.6s finished\n"
     ]
    }
   ],
   "source": [
    "et_predict_train = etmodel.predict(Xtrain)\n",
    "print(\"RMSE on training set = \", np.sqrt(mean_squared_error(ytrain, et_predict_train)) )"
   ]
  },
  {
   "cell_type": "code",
   "execution_count": 43,
   "metadata": {},
   "outputs": [
    {
     "data": {
      "image/png": "[encoded data removed]",
      "text/plain": [
       "<Figure size 432x288 with 1 Axes>"
      ]
     },
     "metadata": {
      "needs_background": "light"
     },
     "output_type": "display_data"
    }
   ],
   "source": [
    "importance_list = etmodel.feature_importances_\n",
    "name_list = train.columns\n",
    "importance_list, name_list = zip(*sorted(zip(importance_list, name_list)))\n",
    "plt.barh(range(len(name_list)),importance_list,align='center')\n",
    "plt.yticks(range(len(name_list)),name_list)\n",
    "plt.xlabel('Relative Importance in the Extra Trees Regressor')\n",
    "plt.ylabel('Features')\n",
    "plt.title('Relative importance of Each Feature')\n",
    "plt.show()"
   ]
  },
  {
   "cell_type": "markdown",
   "metadata": {},
   "source": [
    "## XgBoost\n",
    "\n",
    "Now let's train the model with XGBoost. The hyperparameters were tuned via Grid Search and Cross validation techniques which can be found towards the end of the notebook. Here the best parameters have been selected for training."
   ]
  },
  {
   "cell_type": "code",
   "execution_count": 47,
   "metadata": {},
   "outputs": [],
   "source": [
    "dtrain = xgb.DMatrix(pd.DataFrame(Xtrain,columns=list(train.columns)), label=pd.DataFrame(ytrain, columns=['Purchase']))\n",
    "dtest = xgb.DMatrix(pd.DataFrame(Xtest,columns=list(train.columns)))"
   ]
  },
  {
   "cell_type": "code",
   "execution_count": 100,
   "metadata": {},
   "outputs": [],
   "source": [
    "param = {}\n",
    "param['eta'] = 0.3\n",
    "param['gamma'] = 0.05 #1\n",
    "param['verbosity'] = 1\n",
    "#param['min_child_weight'] = 5\n",
    "#param['colsample_bynode'] = 0.9\n",
    "param['colsample_bytree'] = 0.8\n",
    "#param['subsample'] = 0.9\n",
    "param['lambda']= 1.6\n",
    "param['max_depth'] = 8\n",
    "\n",
    "num_boost_round = 250\n",
    "bst = xgb.train(params=param, dtrain=dtrain,num_boost_round=num_boost_round)"
   ]
  },
  {
   "cell_type": "code",
   "execution_count": 101,
   "metadata": {},
   "outputs": [
    {
     "data": {
      "text/plain": [
       "<matplotlib.axes._subplots.AxesSubplot at 0x1a49b441d0>"
      ]
     },
     "execution_count": 101,
     "metadata": {},
     "output_type": "execute_result"
    },
    {
     "data": {
      "image/png": "[encoded data removed]",
      "text/plain": [
       "<Figure size 432x288 with 1 Axes>"
      ]
     },
     "metadata": {
      "needs_background": "light"
     },
     "output_type": "display_data"
    }
   ],
   "source": [
    "xgb.plot_importance(bst, xlabel=None)"
   ]
  },
  {
   "cell_type": "code",
   "execution_count": 102,
   "metadata": {},
   "outputs": [],
   "source": [
    "pred_xgboost_dtrain =  bst.predict(dtrain)\n",
    "pred_xgboost_dtest = bst.predict(dtest)"
   ]
  },
  {
   "cell_type": "code",
   "execution_count": 103,
   "metadata": {},
   "outputs": [
    {
     "name": "stdout",
     "output_type": "stream",
     "text": [
      "RMSE on test set =  2488.0694134191726\n",
      "RMSE of training set =  2087.979548230976\n"
     ]
    }
   ],
   "source": [
    "print(\"RMSE on test set = \", np.sqrt(mean_squared_error(ytest, pred_xgboost_dtest)) )\n",
    "print(\"RMSE of training set = \", np.sqrt(mean_squared_error(ytrain, pred_xgboost_dtrain)) )"
   ]
  },
  {
   "cell_type": "markdown",
   "metadata": {},
   "source": [
    "## stacked model"
   ]
  },
  {
   "cell_type": "code",
   "execution_count": 56,
   "metadata": {},
   "outputs": [],
   "source": [
    "stack_train = np.hstack((Xtrain,pred_xgboost_dtrain[:,np.newaxis],\n",
    "                         rf_predict_train[:,np.newaxis], et_predict_train[:,np.newaxis] ))\n",
    "\n",
    "stack_test = np.hstack((Xtest,pred_xgboost_dtest[:,np.newaxis], \n",
    "                        rf_predict_test[:,np.newaxis], et_predict_test[:,np.newaxis]))"
   ]
  },
  {
   "cell_type": "code",
   "execution_count": 57,
   "metadata": {},
   "outputs": [],
   "source": [
    "stack_list_cols = list(train.columns)\n",
    "stack_list_cols.extend(['xgb_pred', 'rf_pred', 'et_pred'])\n",
    "#stack_list_cols"
   ]
  },
  {
   "cell_type": "code",
   "execution_count": 62,
   "metadata": {},
   "outputs": [],
   "source": [
    "param = {}\n",
    "param['eta'] = 0.3\n",
    "param['gamma'] = 1\n",
    "param['verbosity'] = 1\n",
    "#param['min_child_weight'] = 5\n",
    "param['colsample_bytree'] = 0.6\n",
    "param['colsample_bylevel'] = 0.7\n",
    "param['subsample'] = 0.7\n",
    "param['lambda']= 1.6\n",
    "param['max_depth'] = 6\n",
    "num_boost_round = 200 \n",
    "### To control overfitting additional parameters are tuned above\n",
    "## With the single model parameter set, I was getting\n",
    "#RMSE of test set =  2730.239745788226\n",
    "#RMSE of training set =  746.1611894630665\n",
    "dtrain_stack = xgb.DMatrix(pd.DataFrame(stack_train,columns=stack_list_cols), label=pd.DataFrame(ytrain, columns=['Purchase']))\n",
    "bst_stack = xgb.train(param, dtrain_stack,num_boost_round)"
   ]
  },
  {
   "cell_type": "code",
   "execution_count": 63,
   "metadata": {},
   "outputs": [
    {
     "name": "stdout",
     "output_type": "stream",
     "text": [
      "RMSE of test set =  2688.510627599515\n",
      "RMSE of training set =  913.5919070222776\n"
     ]
    }
   ],
   "source": [
    "dtest_stack = xgb.DMatrix(pd.DataFrame(stack_test,columns=stack_list_cols))\n",
    "pred_xgboost_stack = bst_stack.predict(dtest_stack)\n",
    "print(\"RMSE of test set = \", np.sqrt(mean_squared_error(ytest, pred_xgboost_stack)) )\n",
    "print(\"RMSE of training set = \", np.sqrt(mean_squared_error(ytrain, bst_stack.predict(dtrain_stack))) )"
   ]
  },
  {
   "cell_type": "code",
   "execution_count": 371,
   "metadata": {},
   "outputs": [
    {
     "data": {
      "text/plain": [
       "<matplotlib.axes._subplots.AxesSubplot at 0x1a246a3be0>"
      ]
     },
     "execution_count": 371,
     "metadata": {},
     "output_type": "execute_result"
    },
    {
     "data": {
      "image/png": "[encoded data removed]",
      "text/plain": [
       "<Figure size 432x288 with 1 Axes>"
      ]
     },
     "metadata": {
      "needs_background": "light"
     },
     "output_type": "display_data"
    }
   ],
   "source": [
    "xgb.plot_importance(bst_stack, xlabel=None)"
   ]
  },
  {
   "cell_type": "markdown",
   "metadata": {},
   "source": [
    "## Predictions on the test set"
   ]
  },
  {
   "cell_type": "code",
   "execution_count": 81,
   "metadata": {},
   "outputs": [],
   "source": [
    "ctest = test.copy()\n",
    "dtest_final = xgb.DMatrix(ctest)\n",
    "pred_xgboost_final = bst.predict(dtest_final)"
   ]
  },
  {
   "cell_type": "code",
   "execution_count": 580,
   "metadata": {},
   "outputs": [],
   "source": [
    "#rf_predict_testfinal = rfmodel.predict(ctest)\n",
    "#et_predict_testfinal = etmodel.predict(ctest)"
   ]
  },
  {
   "cell_type": "code",
   "execution_count": 382,
   "metadata": {},
   "outputs": [],
   "source": [
    "#ctest['xgb_pred'] = pred_xgboost_final\n",
    "#ctest['rf_pred'] = rf_predict_testfinal\n",
    "#ctest['et_pred'] = et_predict_testfinal\n",
    "#dtest_stack_final = xgb.DMatrix(ctest)\n",
    "#pred_xgboost_stack_final = bst_stack.predict(dtest_stack_final)"
   ]
  },
  {
   "cell_type": "code",
   "execution_count": 82,
   "metadata": {},
   "outputs": [],
   "source": [
    "submission = pd.read_csv(\"./Sample_Submission_Tm9Lura.csv\") "
   ]
  },
  {
   "cell_type": "code",
   "execution_count": 83,
   "metadata": {},
   "outputs": [],
   "source": [
    "#submission['Purchase'] = pred_xgboost_stack_final\n",
    "#submission['Purchase'] = pred_xgboost_final\n",
    "#submission['Purchase'] = (pred_xgboost_final + rfmodel.predict(test) + etmodel.predict(test))/3\n",
    "submission['User_ID'] = ctest.User_ID\n",
    "submission['Product_ID'] = enc.inverse_transform(ctest['Product_ID'])"
   ]
  },
  {
   "cell_type": "code",
   "execution_count": 84,
   "metadata": {},
   "outputs": [],
   "source": [
    "submission.to_csv('solution.csv',index = False,header=True)"
   ]
  },
  {
   "cell_type": "markdown",
   "metadata": {},
   "source": [
    "# Cross validation"
   ]
  },
  {
   "cell_type": "markdown",
   "metadata": {},
   "source": [
    "### Random forest model\n",
    "\n",
    "Doing grid search with random forests was way too computationally intensive for my system (Macbook pro, 8GB RAM). So I have presented the cross validation scores below after hand-picking the hyperparameters."
   ]
  },
  {
   "cell_type": "code",
   "execution_count": 104,
   "metadata": {
    "scrolled": true
   },
   "outputs": [
    {
     "name": "stderr",
     "output_type": "stream",
     "text": [
      "[Parallel(n_jobs=-1)]: Using backend LokyBackend with 4 concurrent workers.\n",
      "[Parallel(n_jobs=-1)]: Done  42 tasks      | elapsed:   38.8s\n",
      "[Parallel(n_jobs=-1)]: Done 192 tasks      | elapsed:  2.7min\n",
      "[Parallel(n_jobs=-1)]: Done 442 tasks      | elapsed:  6.0min\n",
      "[Parallel(n_jobs=-1)]: Done 700 out of 700 | elapsed:  8.8min finished\n",
      "[Parallel(n_jobs=4)]: Using backend ThreadingBackend with 4 concurrent workers.\n",
      "[Parallel(n_jobs=4)]: Done  42 tasks      | elapsed:    0.9s\n",
      "[Parallel(n_jobs=4)]: Done 192 tasks      | elapsed:    4.2s\n",
      "[Parallel(n_jobs=4)]: Done 442 tasks      | elapsed:    8.8s\n",
      "[Parallel(n_jobs=4)]: Done 700 out of 700 | elapsed:   14.4s finished\n",
      "[Parallel(n_jobs=-1)]: Using backend LokyBackend with 4 concurrent workers.\n",
      "[Parallel(n_jobs=-1)]: Done  42 tasks      | elapsed:   26.7s\n",
      "[Parallel(n_jobs=-1)]: Done 192 tasks      | elapsed:  2.0min\n",
      "[Parallel(n_jobs=-1)]: Done 442 tasks      | elapsed:  4.6min\n",
      "[Parallel(n_jobs=-1)]: Done 700 out of 700 | elapsed:  7.7min finished\n",
      "[Parallel(n_jobs=4)]: Using backend ThreadingBackend with 4 concurrent workers.\n",
      "[Parallel(n_jobs=4)]: Done  42 tasks      | elapsed:    0.5s\n",
      "[Parallel(n_jobs=4)]: Done 192 tasks      | elapsed:    2.9s\n",
      "[Parallel(n_jobs=4)]: Done 442 tasks      | elapsed:    8.0s\n",
      "[Parallel(n_jobs=4)]: Done 700 out of 700 | elapsed:   13.4s finished\n",
      "[Parallel(n_jobs=-1)]: Using backend LokyBackend with 4 concurrent workers.\n",
      "[Parallel(n_jobs=-1)]: Done  42 tasks      | elapsed:   28.8s\n",
      "[Parallel(n_jobs=-1)]: Done 192 tasks      | elapsed:  2.2min\n",
      "[Parallel(n_jobs=-1)]: Done 442 tasks      | elapsed:  5.6min\n",
      "[Parallel(n_jobs=-1)]: Done 700 out of 700 | elapsed:  9.1min finished\n",
      "[Parallel(n_jobs=4)]: Using backend ThreadingBackend with 4 concurrent workers.\n",
      "[Parallel(n_jobs=4)]: Done  42 tasks      | elapsed:    0.9s\n",
      "[Parallel(n_jobs=4)]: Done 192 tasks      | elapsed:    4.3s\n",
      "[Parallel(n_jobs=4)]: Done 442 tasks      | elapsed:    9.8s\n",
      "[Parallel(n_jobs=4)]: Done 700 out of 700 | elapsed:   16.5s finished\n",
      "[Parallel(n_jobs=-1)]: Using backend LokyBackend with 4 concurrent workers.\n",
      "[Parallel(n_jobs=-1)]: Done  42 tasks      | elapsed:   50.8s\n",
      "[Parallel(n_jobs=-1)]: Done 192 tasks      | elapsed:  4.2min\n",
      "[Parallel(n_jobs=-1)]: Done 442 tasks      | elapsed:  7.2min\n",
      "[Parallel(n_jobs=-1)]: Done 700 out of 700 | elapsed:  9.9min finished\n",
      "[Parallel(n_jobs=4)]: Using backend ThreadingBackend with 4 concurrent workers.\n",
      "[Parallel(n_jobs=4)]: Done  42 tasks      | elapsed:    1.1s\n",
      "[Parallel(n_jobs=4)]: Done 192 tasks      | elapsed:    4.2s\n",
      "[Parallel(n_jobs=4)]: Done 442 tasks      | elapsed:    8.6s\n",
      "[Parallel(n_jobs=4)]: Done 700 out of 700 | elapsed:   13.5s finished\n",
      "[Parallel(n_jobs=-1)]: Using backend LokyBackend with 4 concurrent workers.\n",
      "[Parallel(n_jobs=-1)]: Done  42 tasks      | elapsed:   27.3s\n",
      "[Parallel(n_jobs=-1)]: Done 192 tasks      | elapsed:  2.0min\n",
      "[Parallel(n_jobs=-1)]: Done 442 tasks      | elapsed:  4.5min\n",
      "[Parallel(n_jobs=-1)]: Done 700 out of 700 | elapsed:  7.1min finished\n",
      "[Parallel(n_jobs=4)]: Using backend ThreadingBackend with 4 concurrent workers.\n",
      "[Parallel(n_jobs=4)]: Done  42 tasks      | elapsed:    0.7s\n",
      "[Parallel(n_jobs=4)]: Done 192 tasks      | elapsed:    2.4s\n",
      "[Parallel(n_jobs=4)]: Done 442 tasks      | elapsed:    5.3s\n",
      "[Parallel(n_jobs=4)]: Done 700 out of 700 | elapsed:    7.9s finished\n"
     ]
    },
    {
     "name": "stdout",
     "output_type": "stream",
     "text": [
      "[-6609113.92281278 -6616362.59389948 -6596397.91148178 -6639417.07412325\n",
      " -6581080.30532817]\n"
     ]
    }
   ],
   "source": [
    "from sklearn.model_selection import cross_val_score\n",
    "scores = cross_val_score(rfmodel, Xtrain, ytrain, cv=5,  scoring='neg_mean_squared_error')\n",
    "#print(\"Score: %0.2f (+/- %0.2f)\" % (scores./mean(), scores.std() * 2))\n",
    "print(scores)"
   ]
  },
  {
   "cell_type": "code",
   "execution_count": 105,
   "metadata": {},
   "outputs": [
    {
     "name": "stdout",
     "output_type": "stream",
     "text": [
      "[2570.81969862 2572.22910992 2568.34536453 2576.70663331 2565.36163247]\n"
     ]
    }
   ],
   "source": [
    "print(np.sqrt(np.abs(scores)))"
   ]
  },
  {
   "cell_type": "markdown",
   "metadata": {},
   "source": [
    "### Extra Trees model"
   ]
  },
  {
   "cell_type": "code",
   "execution_count": 94,
   "metadata": {},
   "outputs": [],
   "source": [
    "from sklearn.model_selection import KFold "
   ]
  },
  {
   "cell_type": "code",
   "execution_count": 95,
   "metadata": {},
   "outputs": [
    {
     "name": "stderr",
     "output_type": "stream",
     "text": [
      "[Parallel(n_jobs=4)]: Using backend ThreadingBackend with 4 concurrent workers.\n",
      "[Parallel(n_jobs=4)]: Done  42 tasks      | elapsed:   36.8s\n",
      "[Parallel(n_jobs=4)]: Done 192 tasks      | elapsed:  2.6min\n",
      "[Parallel(n_jobs=4)]: Done 442 tasks      | elapsed:  6.0min\n",
      "[Parallel(n_jobs=4)]: Done 500 out of 500 | elapsed:  6.7min finished\n",
      "[Parallel(n_jobs=4)]: Using backend ThreadingBackend with 4 concurrent workers.\n",
      "[Parallel(n_jobs=4)]: Done  42 tasks      | elapsed:    0.2s\n",
      "[Parallel(n_jobs=4)]: Done 192 tasks      | elapsed:    0.7s\n",
      "[Parallel(n_jobs=4)]: Done 442 tasks      | elapsed:    1.6s\n",
      "[Parallel(n_jobs=4)]: Done 500 out of 500 | elapsed:    1.9s finished\n"
     ]
    },
    {
     "name": "stdout",
     "output_type": "stream",
     "text": [
      "2640.870821490866\n"
     ]
    },
    {
     "name": "stderr",
     "output_type": "stream",
     "text": [
      "[Parallel(n_jobs=4)]: Using backend ThreadingBackend with 4 concurrent workers.\n",
      "[Parallel(n_jobs=4)]: Done  42 tasks      | elapsed:   33.9s\n",
      "[Parallel(n_jobs=4)]: Done 192 tasks      | elapsed:  2.5min\n",
      "[Parallel(n_jobs=4)]: Done 442 tasks      | elapsed:  5.7min\n",
      "[Parallel(n_jobs=4)]: Done 500 out of 500 | elapsed:  6.5min finished\n",
      "[Parallel(n_jobs=4)]: Using backend ThreadingBackend with 4 concurrent workers.\n",
      "[Parallel(n_jobs=4)]: Done  42 tasks      | elapsed:    0.2s\n",
      "[Parallel(n_jobs=4)]: Done 192 tasks      | elapsed:    0.7s\n",
      "[Parallel(n_jobs=4)]: Done 442 tasks      | elapsed:    1.6s\n",
      "[Parallel(n_jobs=4)]: Done 500 out of 500 | elapsed:    1.8s finished\n"
     ]
    },
    {
     "name": "stdout",
     "output_type": "stream",
     "text": [
      "2638.499009692421\n"
     ]
    },
    {
     "name": "stderr",
     "output_type": "stream",
     "text": [
      "[Parallel(n_jobs=4)]: Using backend ThreadingBackend with 4 concurrent workers.\n",
      "[Parallel(n_jobs=4)]: Done  42 tasks      | elapsed:   34.6s\n",
      "[Parallel(n_jobs=4)]: Done 192 tasks      | elapsed:  2.5min\n",
      "[Parallel(n_jobs=4)]: Done 442 tasks      | elapsed:  5.5min\n",
      "[Parallel(n_jobs=4)]: Done 500 out of 500 | elapsed:  6.2min finished\n",
      "[Parallel(n_jobs=4)]: Using backend ThreadingBackend with 4 concurrent workers.\n",
      "[Parallel(n_jobs=4)]: Done  42 tasks      | elapsed:    0.1s\n",
      "[Parallel(n_jobs=4)]: Done 192 tasks      | elapsed:    0.6s\n",
      "[Parallel(n_jobs=4)]: Done 442 tasks      | elapsed:    1.5s\n",
      "[Parallel(n_jobs=4)]: Done 500 out of 500 | elapsed:    1.7s finished\n"
     ]
    },
    {
     "name": "stdout",
     "output_type": "stream",
     "text": [
      "2632.6188860972466\n"
     ]
    },
    {
     "name": "stderr",
     "output_type": "stream",
     "text": [
      "[Parallel(n_jobs=4)]: Using backend ThreadingBackend with 4 concurrent workers.\n",
      "[Parallel(n_jobs=4)]: Done  42 tasks      | elapsed:   30.8s\n",
      "[Parallel(n_jobs=4)]: Done 192 tasks      | elapsed:  2.3min\n",
      "[Parallel(n_jobs=4)]: Done 442 tasks      | elapsed:  5.2min\n",
      "[Parallel(n_jobs=4)]: Done 500 out of 500 | elapsed:  5.9min finished\n",
      "[Parallel(n_jobs=4)]: Using backend ThreadingBackend with 4 concurrent workers.\n",
      "[Parallel(n_jobs=4)]: Done  42 tasks      | elapsed:    0.1s\n",
      "[Parallel(n_jobs=4)]: Done 192 tasks      | elapsed:    0.6s\n",
      "[Parallel(n_jobs=4)]: Done 442 tasks      | elapsed:    1.5s\n",
      "[Parallel(n_jobs=4)]: Done 500 out of 500 | elapsed:    1.6s finished\n"
     ]
    },
    {
     "name": "stdout",
     "output_type": "stream",
     "text": [
      "2633.6323668316736\n"
     ]
    },
    {
     "name": "stderr",
     "output_type": "stream",
     "text": [
      "[Parallel(n_jobs=4)]: Using backend ThreadingBackend with 4 concurrent workers.\n",
      "[Parallel(n_jobs=4)]: Done  42 tasks      | elapsed:   31.1s\n",
      "[Parallel(n_jobs=4)]: Done 192 tasks      | elapsed:  2.3min\n",
      "[Parallel(n_jobs=4)]: Done 442 tasks      | elapsed:  5.3min\n",
      "[Parallel(n_jobs=4)]: Done 500 out of 500 | elapsed:  6.0min finished\n",
      "[Parallel(n_jobs=4)]: Using backend ThreadingBackend with 4 concurrent workers.\n",
      "[Parallel(n_jobs=4)]: Done  42 tasks      | elapsed:    0.1s\n",
      "[Parallel(n_jobs=4)]: Done 192 tasks      | elapsed:    0.6s\n",
      "[Parallel(n_jobs=4)]: Done 442 tasks      | elapsed:    1.5s\n",
      "[Parallel(n_jobs=4)]: Done 500 out of 500 | elapsed:    1.7s finished\n"
     ]
    },
    {
     "name": "stdout",
     "output_type": "stream",
     "text": [
      "2631.387754586808\n"
     ]
    }
   ],
   "source": [
    "kf = KFold(n_splits=5, random_state=123, shuffle=True)\n",
    "for train_index, validation_index in kf.split(train):    \n",
    "    train_X, validation_X = train.iloc[train_index, :], train.iloc[validation_index, :]\n",
    "    train_y, validation_y = target[train_index], target[validation_index]\n",
    "    model_cv_et = etmodel.fit(train_X, train_y)\n",
    "    model_cv_predict = etmodel.predict(validation_X)\n",
    "    print (np.sqrt(mean_squared_error(validation_y, model_cv_predict)))"
   ]
  },
  {
   "cell_type": "code",
   "execution_count": null,
   "metadata": {},
   "outputs": [],
   "source": [
    "from sklearn.model_selection import cross_val_score\n",
    "et_scores = cross_val_score(estimator=etmodel, X=train, y=target, cv=4, scoring='neg_mean_squared_error')  \n",
    "print(np.sqrt(np.abs(et_scores)))"
   ]
  },
  {
   "cell_type": "markdown",
   "metadata": {},
   "source": [
    "### XGBoost Grid search"
   ]
  },
  {
   "cell_type": "code",
   "execution_count": 44,
   "metadata": {},
   "outputs": [
    {
     "name": "stdout",
     "output_type": "stream",
     "text": [
      "Fitting 4 folds for each of 6 candidates, totalling 24 fits\n"
     ]
    },
    {
     "name": "stderr",
     "output_type": "stream",
     "text": [
      "[Parallel(n_jobs=4)]: Using backend LokyBackend with 4 concurrent workers.\n",
      "[Parallel(n_jobs=4)]: Done  24 out of  24 | elapsed: 22.0min finished\n"
     ]
    },
    {
     "data": {
      "text/plain": [
       "GridSearchCV(cv=4, error_score='raise-deprecating',\n",
       "       estimator=XGBRegressor(base_score=0.5, booster='gbtree', colsample_bylevel=1,\n",
       "       colsample_bytree=1, gamma=0, importance_type='gain',\n",
       "       learning_rate=0.1, max_delta_step=0, max_depth=3,\n",
       "       min_child_weight=1, missing=None, n_estimators=100, n_jobs=3,\n",
       "       nthread=None, objective='reg:linear', random_state=123, reg_alpha=0,\n",
       "       reg_lambda=1, scale_pos_weight=1, seed=None, silent=True,\n",
       "       subsample=1),\n",
       "       fit_params=None, iid='warn', n_jobs=4,\n",
       "       param_grid={'colsample_bytree': [0.8], 'reg_lambda': [1.6], 'max_depth': [5, 7, 8], 'learning_rate': [0.1, 0.3], 'subsample': [1], 'gamma': [0.05], 'min_child_weight': [1]},\n",
       "       pre_dispatch='2*n_jobs', refit=True, return_train_score='warn',\n",
       "       scoring='neg_mean_squared_error', verbose=2)"
      ]
     },
     "execution_count": 44,
     "metadata": {},
     "output_type": "execute_result"
    }
   ],
   "source": [
    "## Grid search with cross validation ##############\n",
    "\n",
    "gbm_param_grid = {\n",
    "#    'colsample_bytree': [0.6,0.8],\n",
    "    'colsample_bytree': [0.8],\n",
    "#    'colsample_bynode':  [0.9,1],\n",
    "#    'reg_lambda': [1,1.2,1.4,2],\n",
    "    'reg_lambda': [1.6],\n",
    "    'max_depth': [5,7,8],\n",
    "#        'max_depth': [8],\n",
    "#    'learning_rate': [0.1,0.3, 0.5]\n",
    "    'learning_rate': [0.3],\n",
    "#    'subsample': [0.6,0.8,0.9,1]\n",
    "    'subsample': [1],\n",
    "#    'gamma':[0.1,0.3,0.5, 1,1.2,1.5]\n",
    "        'gamma':[0.05],\n",
    "#    'min_child_weight':[1,3,5]\n",
    "    'min_child_weight':[1]\n",
    "}\n",
    "\n",
    "gbm = xgb.XGBRegressor(n_estimators=100, n_jobs=3, random_state=123)\n",
    "\n",
    "# Perform grid search\n",
    "grid_xgb = GridSearchCV(param_grid=gbm_param_grid, estimator=gbm, cv=4,verbose=2, \n",
    "                        n_jobs=4, scoring='neg_mean_squared_error')\n",
    "# Fit to the data\n",
    "grid_xgb.fit(Xtrain,ytrain)"
   ]
  },
  {
   "cell_type": "code",
   "execution_count": 45,
   "metadata": {},
   "outputs": [
    {
     "name": "stdout",
     "output_type": "stream",
     "text": [
      "Best parameters found:  {'colsample_bytree': 0.8, 'gamma': 0.05, 'learning_rate': 0.3, 'max_depth': 8, 'min_child_weight': 1, 'reg_lambda': 1.6, 'subsample': 1}\n",
      "Lowest RMSE found:  2500.32950744799\n"
     ]
    }
   ],
   "source": [
    "# Print the best parameters and lowest RMSE\n",
    "print(\"Best parameters found: \", grid_xgb.best_params_)\n",
    "print(\"Lowest RMSE found: \", np.sqrt(np.abs(grid_xgb.best_score_)))"
   ]
  },
  {
   "cell_type": "code",
   "execution_count": 223,
   "metadata": {},
   "outputs": [
    {
     "name": "stderr",
     "output_type": "stream",
     "text": [
      "/Users/debashis/anaconda3/lib/python3.6/site-packages/xgboost/core.py:587: FutureWarning: Series.base is deprecated and will be removed in a future version\n",
      "  if getattr(data, 'base', None) is not None and \\\n",
      "/Users/debashis/anaconda3/lib/python3.6/site-packages/xgboost/core.py:588: FutureWarning: Series.base is deprecated and will be removed in a future version\n",
      "  data.base is not None and isinstance(data, np.ndarray) \\\n"
     ]
    }
   ],
   "source": [
    "dfull_train = xgb.DMatrix(train,label=target)"
   ]
  },
  {
   "cell_type": "code",
   "execution_count": 229,
   "metadata": {},
   "outputs": [],
   "source": [
    "param = {}\n",
    "param['eta'] = 0.1\n",
    "#param['verbosity'] = 1\n",
    "param['colsample_bytree'] = 0.6\n",
    "param['subsample'] = 0.7\n",
    "param['lambda']= 1.5\n",
    "param['max_depth'] = 5\n",
    "\n",
    "cv_xgb = xgb.cv(param, dfull_train, num_boost_round=100, metrics = 'rmse',\n",
    "           nfold=5,  early_stopping_rounds=10)\n",
    "cv_xgb['test-rmse-mean'].iloc[-1]"
   ]
  },
  {
   "cell_type": "markdown",
   "metadata": {},
   "source": [
    "## Stacked model"
   ]
  },
  {
   "cell_type": "code",
   "execution_count": 210,
   "metadata": {},
   "outputs": [],
   "source": [
    "cv_xgb_stack = xgb.cv(param, dtrain_stack, num_boost_round=100, metrics = 'rmse',\n",
    "           nfold=4,  early_stopping_rounds=10)"
   ]
  },
  {
   "cell_type": "code",
   "execution_count": 222,
   "metadata": {},
   "outputs": [
    {
     "data": {
      "text/plain": [
       "1067.5854494"
      ]
     },
     "execution_count": 222,
     "metadata": {},
     "output_type": "execute_result"
    }
   ],
   "source": [
    "cv_xgb_stack['test-rmse-mean'].iloc[-1]"
   ]
  },
  {
   "cell_type": "code",
   "execution_count": 171,
   "metadata": {},
   "outputs": [],
   "source": [
    "from sklearn.model_selection import KFold"
   ]
  },
  {
   "cell_type": "code",
   "execution_count": null,
   "metadata": {},
   "outputs": [],
   "source": [
    "kf = KFold(n_splits=5)\n",
    "param = {}\n",
    "param['eta'] = 0.05\n",
    "param['gamma'] = 2\n",
    "param['verbosity'] = 1\n",
    "#param['min_child_weight'] = 5\n",
    "param['colsample_bytree'] = 0.7\n",
    "param['colsample_bylevel'] = 0.7\n",
    "param['subsample'] = 0.7\n",
    "param['lambda']= 2\n",
    "param['max_depth'] = 4\n",
    "num_boost_round = 200 \n",
    "\n",
    "for train_index, validation_index in kf.split(stack_train):\n",
    "    \n",
    "    train_X, validation_X = stack_train[train_index, :], stack_train[validation_index, :]\n",
    "    train_y, validation_y = ytrain[train_index], ytrain[validation_index]\n",
    "    \n",
    "    xgtrain = xgb.DMatrix(train_X, label=train_y)\n",
    "    model_cv_xgboost = xgb.train(param, xgtrain, num_boost_round)\n",
    "    model_cv_predict = model_cv_xgboost.predict(xgb.DMatrix(validation_X))\n",
    "    print (np.sqrt(mean_squared_error(validation_y, model_cv_predict)))"
   ]
  },
  {
   "cell_type": "code",
   "execution_count": 486,
   "metadata": {},
   "outputs": [
    {
     "data": {
      "text/plain": [
       "12538672"
      ]
     },
     "execution_count": 486,
     "metadata": {},
     "output_type": "execute_result"
    }
   ],
   "source": [
    "full.size"
   ]
  },
  {
   "cell_type": "code",
   "execution_count": null,
   "metadata": {},
   "outputs": [],
   "source": []
  }
 ],
 "metadata": {
  "kernelspec": {
   "display_name": "Python 3",
   "language": "python",
   "name": "python3"
  },
  "language_info": {
   "codemirror_mode": {
    "name": "ipython",
    "version": 3
   },
   "file_extension": ".py",
   "mimetype": "text/x-python",
   "name": "python",
   "nbconvert_exporter": "python",
   "pygments_lexer": "ipython3",
   "version": "3.6.8"
  }
 },
 "nbformat": 4,
 "nbformat_minor": 1
}
